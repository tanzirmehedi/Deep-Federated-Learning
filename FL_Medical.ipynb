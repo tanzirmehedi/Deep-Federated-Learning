{
  "nbformat": 4,
  "nbformat_minor": 0,
  "metadata": {
    "kernelspec": {
      "display_name": "Python 3",
      "language": "python",
      "name": "python3"
    },
    "language_info": {
      "codemirror_mode": {
        "name": "ipython",
        "version": 3
      },
      "file_extension": ".py",
      "mimetype": "text/x-python",
      "name": "python",
      "nbconvert_exporter": "python",
      "pygments_lexer": "ipython3",
      "version": "3.8.5"
    },
    "colab": {
      "name": "FL-Medical.ipynb",
      "provenance": [],
      "collapsed_sections": []
    }
  },
  "cells": [
    {
      "cell_type": "code",
      "metadata": {
        "id": "du85XBNzw3Rz"
      },
      "source": [
        "import urllib.request\n",
        "\n",
        "def download_url(url, save_as):\n",
        "    response = urllib.request.urlopen(url)\n",
        "    data = response.read()\n",
        "    file = open(save_as, 'wb')\n",
        "    file.write(data)\n",
        "    file.close()\n",
        "    response.close()\n",
        "    \n",
        "def read_binary_file(file):\n",
        "    f = open(file,'rb')\n",
        "    block = f.read()\n",
        "    return block.decode('utf-16')\n",
        "\n",
        "def split_text_in_lines(text):\n",
        "    return text.split('\\r\\n')\n",
        "\n",
        "def split_by_tabs(line):\n",
        "    return line.split('\\t')"
      ],
      "execution_count": null,
      "outputs": []
    },
    {
      "cell_type": "code",
      "metadata": {
        "id": "zEw_ny8lw3R1"
      },
      "source": [
        "names_link = 'https://raw.githubusercontent.com/tanzirmehedi/Deep-Federated-Learning/main/diagnosis.names'\n",
        "data_link = 'https://raw.githubusercontent.com/tanzirmehedi/Deep-Federated-Learning/main/diagnosis.data'\n",
        "\n",
        "diagnosis_names = 'diagnosis.names'\n",
        "diagnosis_data = 'diagnosis.data'\n",
        "download_url(names_link, diagnosis_names)\n",
        "download_url(data_link, diagnosis_data)"
      ],
      "execution_count": null,
      "outputs": []
    },
    {
      "cell_type": "code",
      "metadata": {
        "id": "boDmLE-gw3R2"
      },
      "source": [
        "import numpy as np\n",
        "\n",
        "def parse_double(field):\n",
        "    field = field.replace(',', '.')\n",
        "    return float(field)\n",
        "\n",
        "def parse_boolean(field):\n",
        "    return 1. if field == 'yes' else 0.\n",
        "\n",
        "def read_np_array(file = diagnosis_data):\n",
        "    text = read_binary_file(file)\n",
        "    lines = split_text_in_lines(text)\n",
        "    rows = []\n",
        "    for line in lines:\n",
        "        if line == '': continue\n",
        "        line = line.replace('\\r\\n', '')\n",
        "        fields = split_by_tabs(line)\n",
        "        row = []\n",
        "        j = 0\n",
        "        for field in fields:\n",
        "            value = parse_double(field) if j == 0 else parse_boolean(field)\n",
        "            row.append(value)\n",
        "            j += 1\n",
        "        rows.append(row)\n",
        "    matrix = np.array(rows, dtype = np.float32)\n",
        "    return matrix\n"
      ],
      "execution_count": null,
      "outputs": []
    },
    {
      "cell_type": "code",
      "metadata": {
        "colab": {
          "base_uri": "https://localhost:8080/"
        },
        "id": "BxlXZwZUASAu",
        "outputId": "55a34597-7faa-4f6b-8040-9c4e5b1cfdbe"
      },
      "source": [
        "matrix = read_np_array()\n",
        "matrix"
      ],
      "execution_count": null,
      "outputs": [
        {
          "output_type": "execute_result",
          "data": {
            "text/plain": [
              "array([[35.5,  0. ,  1. ,  0. ,  0. ,  0. ,  0. ,  0. ],\n",
              "       [35.9,  0. ,  0. ,  1. ,  1. ,  1. ,  1. ,  0. ],\n",
              "       [35.9,  0. ,  1. ,  0. ,  0. ,  0. ,  0. ,  0. ],\n",
              "       [36. ,  0. ,  0. ,  1. ,  1. ,  1. ,  1. ,  0. ],\n",
              "       [36. ,  0. ,  1. ,  0. ,  0. ,  0. ,  0. ,  0. ],\n",
              "       [36. ,  0. ,  1. ,  0. ,  0. ,  0. ,  0. ,  0. ],\n",
              "       [36.2,  0. ,  0. ,  1. ,  1. ,  1. ,  1. ,  0. ],\n",
              "       [36.2,  0. ,  1. ,  0. ,  0. ,  0. ,  0. ,  0. ],\n",
              "       [36.3,  0. ,  0. ,  1. ,  1. ,  1. ,  1. ,  0. ],\n",
              "       [36.6,  0. ,  0. ,  1. ,  1. ,  1. ,  1. ,  0. ],\n",
              "       [36.6,  0. ,  0. ,  1. ,  1. ,  1. ,  1. ,  0. ],\n",
              "       [36.6,  0. ,  1. ,  0. ,  0. ,  0. ,  0. ,  0. ],\n",
              "       [36.6,  0. ,  1. ,  0. ,  0. ,  0. ,  0. ,  0. ],\n",
              "       [36.7,  0. ,  0. ,  1. ,  1. ,  1. ,  1. ,  0. ],\n",
              "       [36.7,  0. ,  1. ,  0. ,  0. ,  0. ,  0. ,  0. ],\n",
              "       [36.7,  0. ,  1. ,  0. ,  0. ,  0. ,  0. ,  0. ],\n",
              "       [36.8,  0. ,  0. ,  1. ,  1. ,  1. ,  1. ,  0. ],\n",
              "       [36.8,  0. ,  0. ,  1. ,  1. ,  1. ,  1. ,  0. ],\n",
              "       [36.9,  0. ,  0. ,  1. ,  1. ,  1. ,  1. ,  0. ],\n",
              "       [36.9,  0. ,  1. ,  0. ,  0. ,  0. ,  0. ,  0. ],\n",
              "       [37. ,  0. ,  0. ,  1. ,  1. ,  0. ,  1. ,  0. ],\n",
              "       [37. ,  0. ,  0. ,  1. ,  1. ,  0. ,  1. ,  0. ],\n",
              "       [37. ,  0. ,  1. ,  0. ,  0. ,  0. ,  0. ,  0. ],\n",
              "       [37. ,  0. ,  0. ,  1. ,  1. ,  1. ,  1. ,  0. ],\n",
              "       [37. ,  0. ,  0. ,  1. ,  1. ,  1. ,  1. ,  0. ],\n",
              "       [37. ,  0. ,  0. ,  1. ,  1. ,  1. ,  1. ,  0. ],\n",
              "       [37. ,  0. ,  0. ,  1. ,  1. ,  1. ,  1. ,  0. ],\n",
              "       [37. ,  0. ,  0. ,  1. ,  0. ,  0. ,  1. ,  0. ],\n",
              "       [37.1,  0. ,  1. ,  0. ,  0. ,  0. ,  0. ,  0. ],\n",
              "       [37.1,  0. ,  0. ,  1. ,  1. ,  1. ,  1. ,  0. ],\n",
              "       [37.1,  0. ,  0. ,  1. ,  0. ,  0. ,  1. ,  0. ],\n",
              "       [37.2,  0. ,  0. ,  1. ,  1. ,  0. ,  1. ,  0. ],\n",
              "       [37.2,  0. ,  1. ,  0. ,  0. ,  0. ,  0. ,  0. ],\n",
              "       [37.2,  0. ,  0. ,  1. ,  0. ,  0. ,  1. ,  0. ],\n",
              "       [37.3,  0. ,  1. ,  0. ,  0. ,  0. ,  0. ,  0. ],\n",
              "       [37.3,  0. ,  0. ,  1. ,  1. ,  1. ,  1. ,  0. ],\n",
              "       [37.3,  0. ,  0. ,  1. ,  0. ,  0. ,  1. ,  0. ],\n",
              "       [37.4,  0. ,  1. ,  0. ,  0. ,  0. ,  0. ,  0. ],\n",
              "       [37.4,  0. ,  0. ,  1. ,  0. ,  0. ,  1. ,  0. ],\n",
              "       [37.5,  0. ,  0. ,  1. ,  1. ,  0. ,  1. ,  0. ],\n",
              "       [37.5,  0. ,  1. ,  0. ,  0. ,  0. ,  0. ,  0. ],\n",
              "       [37.5,  0. ,  1. ,  0. ,  0. ,  0. ,  0. ,  0. ],\n",
              "       [37.5,  0. ,  0. ,  1. ,  1. ,  1. ,  1. ,  0. ],\n",
              "       [37.5,  0. ,  0. ,  1. ,  0. ,  0. ,  1. ,  0. ],\n",
              "       [37.5,  0. ,  0. ,  1. ,  0. ,  0. ,  1. ,  0. ],\n",
              "       [37.6,  0. ,  0. ,  1. ,  1. ,  0. ,  1. ,  0. ],\n",
              "       [37.6,  0. ,  0. ,  1. ,  1. ,  0. ,  1. ,  0. ],\n",
              "       [37.6,  0. ,  0. ,  1. ,  1. ,  1. ,  1. ,  0. ],\n",
              "       [37.7,  0. ,  0. ,  1. ,  1. ,  0. ,  1. ,  0. ],\n",
              "       [37.7,  0. ,  0. ,  1. ,  1. ,  0. ,  1. ,  0. ],\n",
              "       [37.7,  0. ,  1. ,  0. ,  0. ,  0. ,  0. ,  0. ],\n",
              "       [37.7,  0. ,  0. ,  1. ,  0. ,  0. ,  1. ,  0. ],\n",
              "       [37.8,  0. ,  1. ,  0. ,  0. ,  0. ,  0. ,  0. ],\n",
              "       [37.8,  0. ,  0. ,  1. ,  1. ,  1. ,  1. ,  0. ],\n",
              "       [37.8,  0. ,  0. ,  1. ,  0. ,  0. ,  1. ,  0. ],\n",
              "       [37.9,  0. ,  0. ,  1. ,  1. ,  0. ,  1. ,  0. ],\n",
              "       [37.9,  0. ,  0. ,  1. ,  1. ,  0. ,  1. ,  0. ],\n",
              "       [37.9,  0. ,  1. ,  0. ,  0. ,  0. ,  0. ,  0. ],\n",
              "       [37.9,  0. ,  0. ,  1. ,  1. ,  1. ,  1. ,  0. ],\n",
              "       [37.9,  0. ,  0. ,  1. ,  0. ,  0. ,  1. ,  0. ],\n",
              "       [38. ,  0. ,  1. ,  1. ,  0. ,  1. ,  0. ,  1. ],\n",
              "       [38. ,  0. ,  1. ,  1. ,  0. ,  1. ,  0. ,  1. ],\n",
              "       [38.1,  0. ,  1. ,  1. ,  0. ,  1. ,  0. ,  1. ],\n",
              "       [38.3,  0. ,  1. ,  1. ,  0. ,  1. ,  0. ,  1. ],\n",
              "       [38.5,  0. ,  1. ,  1. ,  0. ,  1. ,  0. ,  1. ],\n",
              "       [38.7,  0. ,  1. ,  1. ,  0. ,  1. ,  0. ,  1. ],\n",
              "       [38.9,  0. ,  1. ,  1. ,  0. ,  1. ,  0. ,  1. ],\n",
              "       [39. ,  0. ,  1. ,  1. ,  0. ,  1. ,  0. ,  1. ],\n",
              "       [39.4,  0. ,  1. ,  1. ,  0. ,  1. ,  0. ,  1. ],\n",
              "       [39.7,  0. ,  1. ,  1. ,  0. ,  1. ,  0. ,  1. ],\n",
              "       [40. ,  1. ,  1. ,  1. ,  1. ,  1. ,  1. ,  1. ],\n",
              "       [40. ,  1. ,  1. ,  1. ,  1. ,  1. ,  1. ,  1. ],\n",
              "       [40. ,  1. ,  1. ,  1. ,  1. ,  0. ,  1. ,  1. ],\n",
              "       [40. ,  0. ,  0. ,  0. ,  0. ,  0. ,  0. ,  0. ],\n",
              "       [40. ,  0. ,  0. ,  0. ,  0. ,  0. ,  0. ,  0. ],\n",
              "       [40. ,  1. ,  1. ,  0. ,  1. ,  0. ,  0. ,  1. ],\n",
              "       [40. ,  1. ,  1. ,  0. ,  1. ,  0. ,  0. ,  1. ],\n",
              "       [40. ,  0. ,  1. ,  1. ,  0. ,  1. ,  0. ,  1. ],\n",
              "       [40.1,  1. ,  1. ,  1. ,  1. ,  0. ,  1. ,  1. ],\n",
              "       [40.2,  1. ,  1. ,  1. ,  1. ,  1. ,  1. ,  1. ],\n",
              "       [40.2,  0. ,  0. ,  0. ,  0. ,  0. ,  0. ,  0. ],\n",
              "       [40.2,  1. ,  1. ,  0. ,  1. ,  0. ,  0. ,  1. ],\n",
              "       [40.3,  0. ,  1. ,  1. ,  0. ,  1. ,  0. ,  1. ],\n",
              "       [40.4,  1. ,  1. ,  1. ,  1. ,  1. ,  1. ,  1. ],\n",
              "       [40.4,  1. ,  1. ,  1. ,  1. ,  0. ,  1. ,  1. ],\n",
              "       [40.4,  1. ,  1. ,  1. ,  1. ,  0. ,  1. ,  1. ],\n",
              "       [40.4,  0. ,  0. ,  0. ,  0. ,  0. ,  0. ,  0. ],\n",
              "       [40.4,  1. ,  1. ,  0. ,  1. ,  0. ,  0. ,  1. ],\n",
              "       [40.5,  1. ,  1. ,  1. ,  1. ,  0. ,  1. ,  1. ],\n",
              "       [40.6,  1. ,  1. ,  1. ,  1. ,  1. ,  1. ,  1. ],\n",
              "       [40.6,  0. ,  0. ,  0. ,  0. ,  0. ,  0. ,  0. ],\n",
              "       [40.6,  1. ,  1. ,  0. ,  1. ,  0. ,  0. ,  1. ],\n",
              "       [40.7,  1. ,  1. ,  1. ,  1. ,  1. ,  1. ,  1. ],\n",
              "       [40.7,  1. ,  1. ,  1. ,  1. ,  0. ,  1. ,  1. ],\n",
              "       [40.7,  0. ,  0. ,  0. ,  0. ,  0. ,  0. ,  0. ],\n",
              "       [40.7,  1. ,  1. ,  0. ,  1. ,  0. ,  0. ,  1. ],\n",
              "       [40.7,  0. ,  1. ,  1. ,  0. ,  1. ,  0. ,  1. ],\n",
              "       [40.8,  0. ,  1. ,  1. ,  0. ,  1. ,  0. ,  1. ],\n",
              "       [40.9,  1. ,  1. ,  1. ,  1. ,  0. ,  1. ,  1. ],\n",
              "       [40.9,  1. ,  1. ,  1. ,  1. ,  0. ,  1. ,  1. ],\n",
              "       [40.9,  0. ,  1. ,  1. ,  0. ,  1. ,  0. ,  1. ],\n",
              "       [41. ,  1. ,  1. ,  1. ,  1. ,  1. ,  1. ,  1. ],\n",
              "       [41. ,  0. ,  0. ,  0. ,  0. ,  0. ,  0. ,  0. ],\n",
              "       [41. ,  1. ,  1. ,  0. ,  1. ,  0. ,  0. ,  1. ],\n",
              "       [41. ,  0. ,  1. ,  1. ,  0. ,  1. ,  0. ,  1. ],\n",
              "       [41.1,  1. ,  1. ,  1. ,  1. ,  1. ,  1. ,  1. ],\n",
              "       [41.1,  1. ,  1. ,  1. ,  1. ,  0. ,  1. ,  1. ],\n",
              "       [41.1,  0. ,  0. ,  0. ,  0. ,  0. ,  0. ,  0. ],\n",
              "       [41.1,  1. ,  1. ,  0. ,  1. ,  0. ,  0. ,  1. ],\n",
              "       [41.1,  0. ,  1. ,  1. ,  0. ,  1. ,  0. ,  1. ],\n",
              "       [41.2,  1. ,  1. ,  1. ,  1. ,  1. ,  1. ,  1. ],\n",
              "       [41.2,  0. ,  0. ,  0. ,  0. ,  0. ,  0. ,  0. ],\n",
              "       [41.2,  1. ,  1. ,  0. ,  1. ,  0. ,  0. ,  1. ],\n",
              "       [41.2,  0. ,  1. ,  1. ,  0. ,  1. ,  0. ,  1. ],\n",
              "       [41.3,  1. ,  1. ,  1. ,  1. ,  0. ,  1. ,  1. ],\n",
              "       [41.4,  0. ,  1. ,  1. ,  0. ,  1. ,  0. ,  1. ],\n",
              "       [41.5,  0. ,  0. ,  0. ,  0. ,  0. ,  0. ,  0. ],\n",
              "       [41.5,  1. ,  1. ,  0. ,  1. ,  0. ,  0. ,  1. ],\n",
              "       [41.5,  0. ,  1. ,  1. ,  0. ,  1. ,  0. ,  1. ],\n",
              "       [41.5,  0. ,  1. ,  1. ,  0. ,  1. ,  0. ,  1. ]], dtype=float32)"
            ]
          },
          "metadata": {},
          "execution_count": 4
        }
      ]
    },
    {
      "cell_type": "code",
      "metadata": {
        "colab": {
          "base_uri": "https://localhost:8080/"
        },
        "id": "3hyjkbbOBCgp",
        "outputId": "c19c4b03-3351-40dd-8c42-bfe1541ffbef"
      },
      "source": [
        "n_samples, n_dimensions = matrix.shape\n",
        "print(n_samples)\n",
        "print(n_dimensions)"
      ],
      "execution_count": null,
      "outputs": [
        {
          "output_type": "stream",
          "name": "stdout",
          "text": [
            "120\n",
            "8\n"
          ]
        }
      ]
    },
    {
      "cell_type": "code",
      "metadata": {
        "id": "NWE1vQf0w3R4"
      },
      "source": [
        "def get_random_indexes(n):\n",
        "    indexes = list(range(n))\n",
        "    random_indexes = []\n",
        "    for i in range(n):\n",
        "        r = np.random.randint(len(indexes))\n",
        "        random_indexes.append(indexes.pop(r))\n",
        "    return random_indexes\n",
        "\n",
        "def get_indexes_for_2_datasets(n, training = 80):\n",
        "    indexes = get_random_indexes(n)\n",
        "    train = int(training / 100. * n)\n",
        "    return indexes[:train], indexes[train:]\n",
        "\n",
        "matrix = read_np_array()\n",
        "n_samples, n_dimensions = matrix.shape\n",
        "\n",
        "train_indexes, test_indexes = get_indexes_for_2_datasets(n_samples)\n",
        "train_data = matrix[train_indexes]\n",
        "test_data = matrix[test_indexes]\n",
        "\n",
        "def print_dataset(name, data):\n",
        "    print('Dataset {}. Shape: {}'.format(name, data.shape))\n",
        "    print(data)"
      ],
      "execution_count": null,
      "outputs": []
    },
    {
      "cell_type": "code",
      "metadata": {
        "colab": {
          "base_uri": "https://localhost:8080/"
        },
        "id": "vfP7E02pCa9y",
        "outputId": "7f2ef072-61d7-4fe0-8305-535a72a9f444"
      },
      "source": [
        "print(len(train_data))\n",
        "print(len(test_data))\n",
        "print(train_indexes)\n",
        "print(test_indexes)"
      ],
      "execution_count": null,
      "outputs": [
        {
          "output_type": "stream",
          "name": "stdout",
          "text": [
            "96\n",
            "24\n",
            "[79, 91, 50, 16, 14, 52, 64, 89, 31, 108, 46, 78, 73, 58, 109, 114, 99, 1, 55, 26, 15, 86, 87, 110, 93, 77, 94, 85, 28, 82, 2, 34, 95, 45, 47, 103, 23, 27, 48, 98, 39, 111, 119, 6, 97, 9, 115, 63, 69, 62, 30, 36, 75, 18, 29, 61, 25, 24, 4, 90, 104, 84, 0, 22, 60, 10, 107, 41, 76, 80, 19, 20, 67, 66, 100, 3, 59, 113, 70, 116, 57, 102, 11, 74, 117, 44, 5, 8, 54, 7, 83, 56, 40, 51, 38, 96]\n",
            "[42, 81, 17, 68, 32, 65, 35, 118, 71, 33, 21, 13, 37, 106, 88, 72, 105, 101, 43, 49, 53, 12, 112, 92]\n"
          ]
        }
      ]
    },
    {
      "cell_type": "code",
      "metadata": {
        "colab": {
          "base_uri": "https://localhost:8080/"
        },
        "id": "mxEMzTl0w3R5",
        "outputId": "42f9fbd2-2155-4c5a-d39b-edb535cf69c9"
      },
      "source": [
        "print_dataset('Train', train_data)"
      ],
      "execution_count": null,
      "outputs": [
        {
          "output_type": "stream",
          "name": "stdout",
          "text": [
            "Dataset Train. Shape: (96, 8)\n",
            "[[40.2  1.   1.   1.   1.   1.   1.   1. ]\n",
            " [40.6  1.   1.   0.   1.   0.   0.   1. ]\n",
            " [37.7  0.   1.   0.   0.   0.   0.   0. ]\n",
            " [36.8  0.   0.   1.   1.   1.   1.   0. ]\n",
            " [36.7  0.   1.   0.   0.   0.   0.   0. ]\n",
            " [37.8  0.   1.   0.   0.   0.   0.   0. ]\n",
            " [38.5  0.   1.   1.   0.   1.   0.   1. ]\n",
            " [40.6  1.   1.   1.   1.   1.   1.   1. ]\n",
            " [37.2  0.   0.   1.   1.   0.   1.   0. ]\n",
            " [41.1  1.   1.   0.   1.   0.   0.   1. ]\n",
            " [37.6  0.   0.   1.   1.   0.   1.   0. ]\n",
            " [40.1  1.   1.   1.   1.   0.   1.   1. ]\n",
            " [40.   0.   0.   0.   0.   0.   0.   0. ]\n",
            " [37.9  0.   0.   1.   1.   1.   1.   0. ]\n",
            " [41.1  0.   1.   1.   0.   1.   0.   1. ]\n",
            " [41.3  1.   1.   1.   1.   0.   1.   1. ]\n",
            " [40.9  1.   1.   1.   1.   0.   1.   1. ]\n",
            " [35.9  0.   0.   1.   1.   1.   1.   0. ]\n",
            " [37.9  0.   0.   1.   1.   0.   1.   0. ]\n",
            " [37.   0.   0.   1.   1.   1.   1.   0. ]\n",
            " [36.7  0.   1.   0.   0.   0.   0.   0. ]\n",
            " [40.4  0.   0.   0.   0.   0.   0.   0. ]\n",
            " [40.4  1.   1.   0.   1.   0.   0.   1. ]\n",
            " [41.2  1.   1.   1.   1.   1.   1.   1. ]\n",
            " [40.7  1.   1.   1.   1.   0.   1.   1. ]\n",
            " [40.   0.   1.   1.   0.   1.   0.   1. ]\n",
            " [40.7  0.   0.   0.   0.   0.   0.   0. ]\n",
            " [40.4  1.   1.   1.   1.   0.   1.   1. ]\n",
            " [37.1  0.   1.   0.   0.   0.   0.   0. ]\n",
            " [40.3  0.   1.   1.   0.   1.   0.   1. ]\n",
            " [35.9  0.   1.   0.   0.   0.   0.   0. ]\n",
            " [37.3  0.   1.   0.   0.   0.   0.   0. ]\n",
            " [40.7  1.   1.   0.   1.   0.   0.   1. ]\n",
            " [37.6  0.   0.   1.   1.   0.   1.   0. ]\n",
            " [37.6  0.   0.   1.   1.   1.   1.   0. ]\n",
            " [41.   1.   1.   0.   1.   0.   0.   1. ]\n",
            " [37.   0.   0.   1.   1.   1.   1.   0. ]\n",
            " [37.   0.   0.   1.   0.   0.   1.   0. ]\n",
            " [37.7  0.   0.   1.   1.   0.   1.   0. ]\n",
            " [40.9  1.   1.   1.   1.   0.   1.   1. ]\n",
            " [37.5  0.   0.   1.   1.   0.   1.   0. ]\n",
            " [41.2  0.   0.   0.   0.   0.   0.   0. ]\n",
            " [41.5  0.   1.   1.   0.   1.   0.   1. ]\n",
            " [36.2  0.   0.   1.   1.   1.   1.   0. ]\n",
            " [40.8  0.   1.   1.   0.   1.   0.   1. ]\n",
            " [36.6  0.   0.   1.   1.   1.   1.   0. ]\n",
            " [41.4  0.   1.   1.   0.   1.   0.   1. ]\n",
            " [38.3  0.   1.   1.   0.   1.   0.   1. ]\n",
            " [39.7  0.   1.   1.   0.   1.   0.   1. ]\n",
            " [38.1  0.   1.   1.   0.   1.   0.   1. ]\n",
            " [37.1  0.   0.   1.   0.   0.   1.   0. ]\n",
            " [37.3  0.   0.   1.   0.   0.   1.   0. ]\n",
            " [40.   1.   1.   0.   1.   0.   0.   1. ]\n",
            " [36.9  0.   0.   1.   1.   1.   1.   0. ]\n",
            " [37.1  0.   0.   1.   1.   1.   1.   0. ]\n",
            " [38.   0.   1.   1.   0.   1.   0.   1. ]\n",
            " [37.   0.   0.   1.   1.   1.   1.   0. ]\n",
            " [37.   0.   0.   1.   1.   1.   1.   0. ]\n",
            " [36.   0.   1.   0.   0.   0.   0.   0. ]\n",
            " [40.6  0.   0.   0.   0.   0.   0.   0. ]\n",
            " [41.   0.   1.   1.   0.   1.   0.   1. ]\n",
            " [40.4  1.   1.   1.   1.   0.   1.   1. ]\n",
            " [35.5  0.   1.   0.   0.   0.   0.   0. ]\n",
            " [37.   0.   1.   0.   0.   0.   0.   0. ]\n",
            " [38.   0.   1.   1.   0.   1.   0.   1. ]\n",
            " [36.6  0.   0.   1.   1.   1.   1.   0. ]\n",
            " [41.1  0.   0.   0.   0.   0.   0.   0. ]\n",
            " [37.5  0.   1.   0.   0.   0.   0.   0. ]\n",
            " [40.   1.   1.   0.   1.   0.   0.   1. ]\n",
            " [40.2  0.   0.   0.   0.   0.   0.   0. ]\n",
            " [36.9  0.   1.   0.   0.   0.   0.   0. ]\n",
            " [37.   0.   0.   1.   1.   0.   1.   0. ]\n",
            " [39.   0.   1.   1.   0.   1.   0.   1. ]\n",
            " [38.9  0.   1.   1.   0.   1.   0.   1. ]\n",
            " [40.9  0.   1.   1.   0.   1.   0.   1. ]\n",
            " [36.   0.   0.   1.   1.   1.   1.   0. ]\n",
            " [37.9  0.   0.   1.   0.   0.   1.   0. ]\n",
            " [41.2  0.   1.   1.   0.   1.   0.   1. ]\n",
            " [40.   1.   1.   1.   1.   1.   1.   1. ]\n",
            " [41.5  0.   0.   0.   0.   0.   0.   0. ]\n",
            " [37.9  0.   1.   0.   0.   0.   0.   0. ]\n",
            " [41.   0.   0.   0.   0.   0.   0.   0. ]\n",
            " [36.6  0.   1.   0.   0.   0.   0.   0. ]\n",
            " [40.   0.   0.   0.   0.   0.   0.   0. ]\n",
            " [41.5  1.   1.   0.   1.   0.   0.   1. ]\n",
            " [37.5  0.   0.   1.   0.   0.   1.   0. ]\n",
            " [36.   0.   1.   0.   0.   0.   0.   0. ]\n",
            " [36.3  0.   0.   1.   1.   1.   1.   0. ]\n",
            " [37.8  0.   0.   1.   0.   0.   1.   0. ]\n",
            " [36.2  0.   1.   0.   0.   0.   0.   0. ]\n",
            " [40.4  1.   1.   1.   1.   1.   1.   1. ]\n",
            " [37.9  0.   0.   1.   1.   0.   1.   0. ]\n",
            " [37.5  0.   1.   0.   0.   0.   0.   0. ]\n",
            " [37.7  0.   0.   1.   0.   0.   1.   0. ]\n",
            " [37.4  0.   0.   1.   0.   0.   1.   0. ]\n",
            " [40.7  0.   1.   1.   0.   1.   0.   1. ]]\n"
          ]
        }
      ]
    },
    {
      "cell_type": "code",
      "metadata": {
        "colab": {
          "base_uri": "https://localhost:8080/"
        },
        "id": "HN1aZcHPw3R9",
        "outputId": "74a8aca6-f996-41d6-cd27-07f23237496e"
      },
      "source": [
        "print_dataset('Test', test_data)"
      ],
      "execution_count": null,
      "outputs": [
        {
          "output_type": "stream",
          "name": "stdout",
          "text": [
            "Dataset Test. Shape: (24, 8)\n",
            "[[37.5  0.   0.   1.   1.   1.   1.   0. ]\n",
            " [40.2  1.   1.   0.   1.   0.   0.   1. ]\n",
            " [36.8  0.   0.   1.   1.   1.   1.   0. ]\n",
            " [39.4  0.   1.   1.   0.   1.   0.   1. ]\n",
            " [37.2  0.   1.   0.   0.   0.   0.   0. ]\n",
            " [38.7  0.   1.   1.   0.   1.   0.   1. ]\n",
            " [37.3  0.   0.   1.   1.   1.   1.   0. ]\n",
            " [41.5  0.   1.   1.   0.   1.   0.   1. ]\n",
            " [40.   1.   1.   1.   1.   1.   1.   1. ]\n",
            " [37.2  0.   0.   1.   0.   0.   1.   0. ]\n",
            " [37.   0.   0.   1.   1.   0.   1.   0. ]\n",
            " [36.7  0.   0.   1.   1.   1.   1.   0. ]\n",
            " [37.4  0.   1.   0.   0.   0.   0.   0. ]\n",
            " [41.1  1.   1.   1.   1.   0.   1.   1. ]\n",
            " [40.5  1.   1.   1.   1.   0.   1.   1. ]\n",
            " [40.   1.   1.   1.   1.   0.   1.   1. ]\n",
            " [41.1  1.   1.   1.   1.   1.   1.   1. ]\n",
            " [41.   1.   1.   1.   1.   1.   1.   1. ]\n",
            " [37.5  0.   0.   1.   0.   0.   1.   0. ]\n",
            " [37.7  0.   0.   1.   1.   0.   1.   0. ]\n",
            " [37.8  0.   0.   1.   1.   1.   1.   0. ]\n",
            " [36.6  0.   1.   0.   0.   0.   0.   0. ]\n",
            " [41.2  1.   1.   0.   1.   0.   0.   1. ]\n",
            " [40.7  1.   1.   1.   1.   1.   1.   1. ]]\n"
          ]
        }
      ]
    },
    {
      "cell_type": "code",
      "metadata": {
        "id": "lmnhQZjfw3R-"
      },
      "source": [
        "import torch\n",
        "from torch.autograd import Variable\n",
        "import torch.nn as nn\n",
        "import torch.nn.functional as F\n",
        "\n",
        "input_size = 6\n",
        "learning_rate = 0.01\n",
        "num_iterations = 20000\n",
        "\n",
        "class LogisticRegression(torch.nn.Module):\n",
        "\n",
        "    def __init__(self):\n",
        "        super(LogisticRegression, self).__init__()\n",
        "        self.linear = torch.nn.Linear(input_size, 1)\n",
        "\n",
        "    def forward(self, x):\n",
        "        return torch.sigmoid(self.linear(x))\n"
      ],
      "execution_count": null,
      "outputs": []
    },
    {
      "cell_type": "code",
      "metadata": {
        "id": "C1V_rg-Yw3R_"
      },
      "source": [
        "def decide(y):\n",
        "    return 1. if y >= 0.5 else 0.\n",
        "\n",
        "decide_vectorized = np.vectorize(decide)\n",
        "\n",
        "to_percent = lambda x: '{:.2f}%'.format(x)\n",
        "\n",
        "def compute_accuracy(model, input, output):\n",
        "    prediction = model(input).data.numpy()[:, 0]\n",
        "    n_samples = prediction.shape[0] + 0.\n",
        "    prediction = decide_vectorized(prediction)\n",
        "    equal = prediction == output.data.numpy()\n",
        "    return 100. * equal.sum() / n_samples\n",
        "\n",
        "def get_input_and_output(data):\n",
        "    input = Variable(torch.tensor(data[:, :6], dtype = torch.float32))\n",
        "    output1 = Variable(torch.tensor(data[:, 6], dtype = torch.float32))\n",
        "    output2 = Variable(torch.tensor(data[:, 7], dtype = torch.float32))\n",
        "    #output1 = Variable(torch.tensor(data[:, 6], dtype = torch.float32)[..., None])\n",
        "    #output2 = Variable(torch.tensor(data[:, 7], dtype = torch.float32)[..., None])\n",
        "    return input, output1, output2\n",
        "\n",
        "input, output1, output2 = get_input_and_output(train_data)\n",
        "test_input, test_output1, test_output2 = get_input_and_output(test_data)\n",
        "\n",
        "import matplotlib.pyplot as plt\n",
        "%matplotlib inline\n",
        "\n",
        "diagnosis_title1 = 'Inflammation of Urinary Bladder'\n",
        "diagnosis_title2 = 'Nephritis of Renal Pelvis Origin'\n",
        "\n",
        "def plot_graphs(diagnosis_title, losses, accuracies):\n",
        "    plt.plot(losses)\n",
        "    plt.title(f\"{diagnosis_title} - Training Loss\")\n",
        "    plt.xlabel(\"Iterations\")\n",
        "    plt.ylabel(\"Training Loss\")\n",
        "    plt.show()\n",
        "    plt.plot(accuracies)\n",
        "    plt.title(f\"{diagnosis_title} - Training Accuracy\")\n",
        "    plt.xlabel(\"Iterations\")\n",
        "    plt.ylabel(\"Training Accuracy (Percent %)\")\n",
        "    plt.show()\n",
        "    \n",
        "def train_model(diagnosis_title, input, output, test_input, test_output):\n",
        "    model = LogisticRegression()\n",
        "    criterion = torch.nn.BCELoss(size_average=True)\n",
        "    optimizer = torch.optim.SGD(model.parameters(), lr=learning_rate)  \n",
        "    losses = []\n",
        "    accuracies = []\n",
        "    n_samples, _ = input.shape\n",
        "    for iteration in range(num_iterations):\n",
        "            optimizer.zero_grad()\n",
        "            prediction = model(input)\n",
        "            loss = criterion(prediction, output)\n",
        "            loss.backward()\n",
        "            optimizer.step()\n",
        "            if iteration % 500 == 0:\n",
        "                train_acc = compute_accuracy(model, input, output)\n",
        "                train_loss = loss.item()\n",
        "                losses.append(train_loss)\n",
        "                accuracies.append(train_acc)\n",
        "                print('iteration={}, loss={:.4f}, train_acc={}'.format(iteration, train_loss, to_percent(train_acc)))\n",
        "    plot_graphs(diagnosis_title, losses, accuracies)\n",
        "    test_acc = compute_accuracy(model, test_input, test_output)\n",
        "    print('\\nTesting Accuracy = {}'.format(to_percent(test_acc)))\n",
        "    return model\n"
      ],
      "execution_count": null,
      "outputs": []
    },
    {
      "cell_type": "code",
      "metadata": {
        "colab": {
          "base_uri": "https://localhost:8080/",
          "height": 1375
        },
        "id": "jXT2SLpIw3SA",
        "outputId": "ea75124b-c530-49e5-c5f1-ba86ed0dfd12"
      },
      "source": [
        "model = train_model(diagnosis_title1, input, output1, test_input, test_output1)"
      ],
      "execution_count": null,
      "outputs": [
        {
          "output_type": "stream",
          "name": "stderr",
          "text": [
            "/usr/local/lib/python3.7/dist-packages/torch/nn/_reduction.py:43: UserWarning: size_average and reduce args will be deprecated, please use reduction='mean' instead.\n",
            "  warnings.warn(warning.format(ret))\n",
            "/usr/local/lib/python3.7/dist-packages/torch/nn/modules/loss.py:498: UserWarning: Using a target size (torch.Size([96])) that is different to the input size (torch.Size([96, 1])) is deprecated. Please ensure they have the same size.\n",
            "  return F.binary_cross_entropy(input, target, weight=self.weight, reduction=self.reduction)\n"
          ]
        },
        {
          "output_type": "stream",
          "name": "stdout",
          "text": [
            "iteration=0, loss=5.1054, train_acc=44.79%\n",
            "iteration=500, loss=1.4609, train_acc=44.79%\n",
            "iteration=1000, loss=0.8823, train_acc=62.50%\n",
            "iteration=1500, loss=0.2649, train_acc=100.00%\n",
            "iteration=2000, loss=0.1731, train_acc=100.00%\n",
            "iteration=2500, loss=0.1566, train_acc=100.00%\n",
            "iteration=3000, loss=0.1432, train_acc=100.00%\n",
            "iteration=3500, loss=0.1321, train_acc=100.00%\n",
            "iteration=4000, loss=0.1226, train_acc=100.00%\n",
            "iteration=4500, loss=0.1145, train_acc=100.00%\n",
            "iteration=5000, loss=0.1074, train_acc=100.00%\n",
            "iteration=5500, loss=0.1012, train_acc=100.00%\n",
            "iteration=6000, loss=0.0956, train_acc=100.00%\n",
            "iteration=6500, loss=0.0907, train_acc=100.00%\n",
            "iteration=7000, loss=0.0862, train_acc=100.00%\n",
            "iteration=7500, loss=0.0822, train_acc=100.00%\n",
            "iteration=8000, loss=0.0786, train_acc=100.00%\n",
            "iteration=8500, loss=0.0752, train_acc=100.00%\n",
            "iteration=9000, loss=0.0722, train_acc=100.00%\n",
            "iteration=9500, loss=0.0693, train_acc=100.00%\n",
            "iteration=10000, loss=0.0667, train_acc=100.00%\n",
            "iteration=10500, loss=0.0643, train_acc=100.00%\n",
            "iteration=11000, loss=0.0621, train_acc=100.00%\n",
            "iteration=11500, loss=0.0600, train_acc=100.00%\n",
            "iteration=12000, loss=0.0580, train_acc=100.00%\n",
            "iteration=12500, loss=0.0562, train_acc=100.00%\n",
            "iteration=13000, loss=0.0545, train_acc=100.00%\n",
            "iteration=13500, loss=0.0529, train_acc=100.00%\n",
            "iteration=14000, loss=0.0514, train_acc=100.00%\n",
            "iteration=14500, loss=0.0499, train_acc=100.00%\n",
            "iteration=15000, loss=0.0486, train_acc=100.00%\n",
            "iteration=15500, loss=0.0473, train_acc=100.00%\n",
            "iteration=16000, loss=0.0461, train_acc=100.00%\n",
            "iteration=16500, loss=0.0450, train_acc=100.00%\n",
            "iteration=17000, loss=0.0439, train_acc=100.00%\n",
            "iteration=17500, loss=0.0428, train_acc=100.00%\n",
            "iteration=18000, loss=0.0418, train_acc=100.00%\n",
            "iteration=18500, loss=0.0409, train_acc=100.00%\n",
            "iteration=19000, loss=0.0400, train_acc=100.00%\n",
            "iteration=19500, loss=0.0391, train_acc=100.00%\n"
          ]
        },
        {
          "output_type": "display_data",
          "data": {
            "image/png": "[encoded data removed]",
            "text/plain": [
              "<Figure size 432x288 with 1 Axes>"
            ]
          },
          "metadata": {
            "needs_background": "light"
          }
        },
        {
          "output_type": "display_data",
          "data": {
            "image/png": "[encoded data removed]",
            "text/plain": [
              "<Figure size 432x288 with 1 Axes>"
            ]
          },
          "metadata": {
            "needs_background": "light"
          }
        },
        {
          "output_type": "stream",
          "name": "stdout",
          "text": [
            "\n",
            "Testing Accuracy = 100.00%\n"
          ]
        }
      ]
    },
    {
      "cell_type": "code",
      "metadata": {
        "colab": {
          "base_uri": "https://localhost:8080/",
          "height": 1375
        },
        "id": "eOP0ik4Iw3SB",
        "outputId": "cbbe59fa-021d-4e38-87e2-8d3f65fb0adf"
      },
      "source": [
        "model = train_model(diagnosis_title2, input, output2, test_input, test_output2)"
      ],
      "execution_count": null,
      "outputs": [
        {
          "output_type": "stream",
          "name": "stderr",
          "text": [
            "/usr/local/lib/python3.7/dist-packages/torch/nn/_reduction.py:43: UserWarning: size_average and reduce args will be deprecated, please use reduction='mean' instead.\n",
            "  warnings.warn(warning.format(ret))\n",
            "/usr/local/lib/python3.7/dist-packages/torch/nn/modules/loss.py:498: UserWarning: Using a target size (torch.Size([96])) that is different to the input size (torch.Size([96, 1])) is deprecated. Please ensure they have the same size.\n",
            "  return F.binary_cross_entropy(input, target, weight=self.weight, reduction=self.reduction)\n"
          ]
        },
        {
          "output_type": "stream",
          "name": "stdout",
          "text": [
            "iteration=0, loss=6.3723, train_acc=39.58%\n",
            "iteration=500, loss=1.5859, train_acc=39.58%\n",
            "iteration=1000, loss=1.4374, train_acc=39.58%\n",
            "iteration=1500, loss=1.0891, train_acc=50.00%\n",
            "iteration=2000, loss=0.7222, train_acc=66.67%\n",
            "iteration=2500, loss=0.3784, train_acc=66.67%\n",
            "iteration=3000, loss=0.1958, train_acc=100.00%\n",
            "iteration=3500, loss=0.1812, train_acc=100.00%\n",
            "iteration=4000, loss=0.1688, train_acc=100.00%\n",
            "iteration=4500, loss=0.1582, train_acc=100.00%\n",
            "iteration=5000, loss=0.1489, train_acc=100.00%\n",
            "iteration=5500, loss=0.1408, train_acc=100.00%\n",
            "iteration=6000, loss=0.1335, train_acc=100.00%\n",
            "iteration=6500, loss=0.1270, train_acc=100.00%\n",
            "iteration=7000, loss=0.1211, train_acc=100.00%\n",
            "iteration=7500, loss=0.1158, train_acc=100.00%\n",
            "iteration=8000, loss=0.1109, train_acc=100.00%\n",
            "iteration=8500, loss=0.1065, train_acc=100.00%\n",
            "iteration=9000, loss=0.1023, train_acc=100.00%\n",
            "iteration=9500, loss=0.0985, train_acc=100.00%\n",
            "iteration=10000, loss=0.0950, train_acc=100.00%\n",
            "iteration=10500, loss=0.0917, train_acc=100.00%\n",
            "iteration=11000, loss=0.0887, train_acc=100.00%\n",
            "iteration=11500, loss=0.0858, train_acc=100.00%\n",
            "iteration=12000, loss=0.0832, train_acc=100.00%\n",
            "iteration=12500, loss=0.0807, train_acc=100.00%\n",
            "iteration=13000, loss=0.0783, train_acc=100.00%\n",
            "iteration=13500, loss=0.0761, train_acc=100.00%\n",
            "iteration=14000, loss=0.0740, train_acc=100.00%\n",
            "iteration=14500, loss=0.0720, train_acc=100.00%\n",
            "iteration=15000, loss=0.0701, train_acc=100.00%\n",
            "iteration=15500, loss=0.0683, train_acc=100.00%\n",
            "iteration=16000, loss=0.0666, train_acc=100.00%\n",
            "iteration=16500, loss=0.0650, train_acc=100.00%\n",
            "iteration=17000, loss=0.0634, train_acc=100.00%\n",
            "iteration=17500, loss=0.0620, train_acc=100.00%\n",
            "iteration=18000, loss=0.0606, train_acc=100.00%\n",
            "iteration=18500, loss=0.0592, train_acc=100.00%\n",
            "iteration=19000, loss=0.0580, train_acc=100.00%\n",
            "iteration=19500, loss=0.0567, train_acc=100.00%\n"
          ]
        },
        {
          "output_type": "display_data",
          "data": {
            "image/png": "[encoded data removed]",
            "text/plain": [
              "<Figure size 432x288 with 1 Axes>"
            ]
          },
          "metadata": {
            "needs_background": "light"
          }
        },
        {
          "output_type": "display_data",
          "data": {
            "image/png": "[encoded data removed]",
            "text/plain": [
              "<Figure size 432x288 with 1 Axes>"
            ]
          },
          "metadata": {
            "needs_background": "light"
          }
        },
        {
          "output_type": "stream",
          "name": "stdout",
          "text": [
            "\n",
            "Testing Accuracy = 100.00%\n"
          ]
        }
      ]
    },
    {
      "cell_type": "code",
      "metadata": {
        "colab": {
          "base_uri": "https://localhost:8080/",
          "height": 1000
        },
        "id": "ITcsrrSO1diC",
        "outputId": "1182e213-a83a-42a6-9c00-3f60bf248526"
      },
      "source": [
        "#pip install syft==0.2.9"
      ],
      "execution_count": null,
      "outputs": [
        {
          "output_type": "stream",
          "name": "stdout",
          "text": [
            "Collecting syft==0.2.9\n",
            "  Downloading syft-0.2.9-py3-none-any.whl (433 kB)\n",
            "\u001b[?25l\r\u001b[K     |▊                               | 10 kB 24.0 MB/s eta 0:00:01\r\u001b[K     |█▌                              | 20 kB 27.4 MB/s eta 0:00:01\r\u001b[K     |██▎                             | 30 kB 13.5 MB/s eta 0:00:01\r\u001b[K     |███                             | 40 kB 10.1 MB/s eta 0:00:01\r\u001b[K     |███▊                            | 51 kB 5.7 MB/s eta 0:00:01\r\u001b[K     |████▌                           | 61 kB 6.2 MB/s eta 0:00:01\r\u001b[K     |█████▎                          | 71 kB 6.0 MB/s eta 0:00:01\r\u001b[K     |██████                          | 81 kB 6.7 MB/s eta 0:00:01\r\u001b[K     |██████▉                         | 92 kB 6.1 MB/s eta 0:00:01\r\u001b[K     |███████▌                        | 102 kB 5.4 MB/s eta 0:00:01\r\u001b[K     |████████▎                       | 112 kB 5.4 MB/s eta 0:00:01\r\u001b[K     |█████████                       | 122 kB 5.4 MB/s eta 0:00:01\r\u001b[K     |█████████▉                      | 133 kB 5.4 MB/s eta 0:00:01\r\u001b[K     |██████████▋                     | 143 kB 5.4 MB/s eta 0:00:01\r\u001b[K     |███████████▎                    | 153 kB 5.4 MB/s eta 0:00:01\r\u001b[K     |████████████                    | 163 kB 5.4 MB/s eta 0:00:01\r\u001b[K     |████████████▉                   | 174 kB 5.4 MB/s eta 0:00:01\r\u001b[K     |█████████████▋                  | 184 kB 5.4 MB/s eta 0:00:01\r\u001b[K     |██████████████▍                 | 194 kB 5.4 MB/s eta 0:00:01\r\u001b[K     |███████████████                 | 204 kB 5.4 MB/s eta 0:00:01\r\u001b[K     |███████████████▉                | 215 kB 5.4 MB/s eta 0:00:01\r\u001b[K     |████████████████▋               | 225 kB 5.4 MB/s eta 0:00:01\r\u001b[K     |█████████████████▍              | 235 kB 5.4 MB/s eta 0:00:01\r\u001b[K     |██████████████████▏             | 245 kB 5.4 MB/s eta 0:00:01\r\u001b[K     |██████████████████▉             | 256 kB 5.4 MB/s eta 0:00:01\r\u001b[K     |███████████████████▋            | 266 kB 5.4 MB/s eta 0:00:01\r\u001b[K     |████████████████████▍           | 276 kB 5.4 MB/s eta 0:00:01\r\u001b[K     |█████████████████████▏          | 286 kB 5.4 MB/s eta 0:00:01\r\u001b[K     |██████████████████████          | 296 kB 5.4 MB/s eta 0:00:01\r\u001b[K     |██████████████████████▋         | 307 kB 5.4 MB/s eta 0:00:01\r\u001b[K     |███████████████████████▍        | 317 kB 5.4 MB/s eta 0:00:01\r\u001b[K     |████████████████████████▏       | 327 kB 5.4 MB/s eta 0:00:01\r\u001b[K     |█████████████████████████       | 337 kB 5.4 MB/s eta 0:00:01\r\u001b[K     |█████████████████████████▊      | 348 kB 5.4 MB/s eta 0:00:01\r\u001b[K     |██████████████████████████▍     | 358 kB 5.4 MB/s eta 0:00:01\r\u001b[K     |███████████████████████████▏    | 368 kB 5.4 MB/s eta 0:00:01\r\u001b[K     |████████████████████████████    | 378 kB 5.4 MB/s eta 0:00:01\r\u001b[K     |████████████████████████████▊   | 389 kB 5.4 MB/s eta 0:00:01\r\u001b[K     |█████████████████████████████▌  | 399 kB 5.4 MB/s eta 0:00:01\r\u001b[K     |██████████████████████████████▏ | 409 kB 5.4 MB/s eta 0:00:01\r\u001b[K     |███████████████████████████████ | 419 kB 5.4 MB/s eta 0:00:01\r\u001b[K     |███████████████████████████████▊| 430 kB 5.4 MB/s eta 0:00:01\r\u001b[K     |████████████████████████████████| 433 kB 5.4 MB/s \n",
            "\u001b[?25hCollecting flask-socketio~=4.2.1\n",
            "  Downloading Flask_SocketIO-4.2.1-py2.py3-none-any.whl (16 kB)\n",
            "Collecting psutil==5.7.0\n",
            "  Downloading psutil-5.7.0.tar.gz (449 kB)\n",
            "\u001b[K     |████████████████████████████████| 449 kB 44.7 MB/s \n",
            "\u001b[?25hRequirement already satisfied: Pillow>=7.1.0 in /usr/local/lib/python3.7/dist-packages (from syft==0.2.9) (7.1.2)\n",
            "Collecting aiortc==0.9.28\n",
            "  Downloading aiortc-0.9.28-cp37-cp37m-manylinux2010_x86_64.whl (2.0 MB)\n",
            "\u001b[K     |████████████████████████████████| 2.0 MB 46.7 MB/s \n",
            "\u001b[?25hCollecting requests~=2.22.0\n",
            "  Downloading requests-2.22.0-py2.py3-none-any.whl (57 kB)\n",
            "\u001b[K     |████████████████████████████████| 57 kB 3.9 MB/s \n",
            "\u001b[?25hRequirement already satisfied: msgpack~=1.0.0 in /usr/local/lib/python3.7/dist-packages (from syft==0.2.9) (1.0.2)\n",
            "Collecting phe~=1.4.0\n",
            "  Downloading phe-1.4.0.tar.gz (35 kB)\n",
            "Collecting torchvision~=0.5.0\n",
            "  Downloading torchvision-0.5.0-cp37-cp37m-manylinux1_x86_64.whl (4.0 MB)\n",
            "\u001b[K     |████████████████████████████████| 4.0 MB 40.5 MB/s \n",
            "\u001b[?25hCollecting websockets~=8.1.0\n",
            "  Downloading websockets-8.1-cp37-cp37m-manylinux2010_x86_64.whl (79 kB)\n",
            "\u001b[K     |████████████████████████████████| 79 kB 6.6 MB/s \n",
            "\u001b[?25hCollecting lz4~=3.0.2\n",
            "  Downloading lz4-3.0.2-cp37-cp37m-manylinux2010_x86_64.whl (1.8 MB)\n",
            "\u001b[K     |████████████████████████████████| 1.8 MB 34.4 MB/s \n",
            "\u001b[?25hRequirement already satisfied: requests-toolbelt==0.9.1 in /usr/local/lib/python3.7/dist-packages (from syft==0.2.9) (0.9.1)\n",
            "Requirement already satisfied: syft-proto~=0.5.2 in /usr/local/lib/python3.7/dist-packages (from syft==0.2.9) (0.5.3)\n",
            "Collecting importlib-resources~=1.5.0\n",
            "  Downloading importlib_resources-1.5.0-py2.py3-none-any.whl (21 kB)\n",
            "Requirement already satisfied: dill~=0.3.1 in /usr/local/lib/python3.7/dist-packages (from syft==0.2.9) (0.3.4)\n",
            "Collecting numpy~=1.18.1\n",
            "  Downloading numpy-1.18.5-cp37-cp37m-manylinux1_x86_64.whl (20.1 MB)\n",
            "\u001b[K     |████████████████████████████████| 20.1 MB 1.2 MB/s \n",
            "\u001b[?25hCollecting RestrictedPython~=5.0\n",
            "  Downloading RestrictedPython-5.1-py2.py3-none-any.whl (27 kB)\n",
            "Collecting openmined.threepio==0.2.0\n",
            "  Downloading openmined.threepio-0.2.0.tar.gz (73 kB)\n",
            "\u001b[K     |████████████████████████████████| 73 kB 2.0 MB/s \n",
            "\u001b[?25hCollecting notebook==5.7.8\n",
            "  Downloading notebook-5.7.8-py2.py3-none-any.whl (9.0 MB)\n",
            "\u001b[K     |████████████████████████████████| 9.0 MB 11.0 MB/s \n",
            "\u001b[?25hCollecting tblib~=1.6.0\n",
            "  Downloading tblib-1.6.0-py2.py3-none-any.whl (12 kB)\n",
            "Collecting shaloop==0.2.1-alpha.11\n",
            "  Downloading shaloop-0.2.1_alpha.11-py3-none-manylinux1_x86_64.whl (126 kB)\n",
            "\u001b[K     |████████████████████████████████| 126 kB 67.7 MB/s \n",
            "\u001b[?25hCollecting torch~=1.4.0\n",
            "  Downloading torch-1.4.0-cp37-cp37m-manylinux1_x86_64.whl (753.4 MB)\n",
            "\u001b[K     |████████████████████████████████| 753.4 MB 6.8 kB/s \n",
            "\u001b[?25hCollecting tornado==4.5.3\n",
            "  Downloading tornado-4.5.3.tar.gz (484 kB)\n",
            "\u001b[K     |████████████████████████████████| 484 kB 64.6 MB/s \n",
            "\u001b[?25hRequirement already satisfied: scipy~=1.4.1 in /usr/local/lib/python3.7/dist-packages (from syft==0.2.9) (1.4.1)\n",
            "Collecting websocket-client~=0.57.0\n",
            "  Downloading websocket_client-0.57.0-py2.py3-none-any.whl (200 kB)\n",
            "\u001b[K     |████████████████████████████████| 200 kB 53.8 MB/s \n",
            "\u001b[?25hRequirement already satisfied: Flask~=1.1.1 in /usr/local/lib/python3.7/dist-packages (from syft==0.2.9) (1.1.4)\n",
            "Requirement already satisfied: cffi>=1.0.0 in /usr/local/lib/python3.7/dist-packages (from aiortc==0.9.28->syft==0.2.9) (1.14.6)\n",
            "Requirement already satisfied: pyee>=6.0.0 in /usr/local/lib/python3.7/dist-packages (from aiortc==0.9.28->syft==0.2.9) (8.2.2)\n",
            "Requirement already satisfied: av<9.0.0,>=8.0.0 in /usr/local/lib/python3.7/dist-packages (from aiortc==0.9.28->syft==0.2.9) (8.0.3)\n",
            "Requirement already satisfied: cryptography>=2.2 in /usr/local/lib/python3.7/dist-packages (from aiortc==0.9.28->syft==0.2.9) (35.0.0)\n",
            "Requirement already satisfied: pylibsrtp>=0.5.6 in /usr/local/lib/python3.7/dist-packages (from aiortc==0.9.28->syft==0.2.9) (0.6.8)\n",
            "Collecting aioice<0.7.0,>=0.6.17\n",
            "  Downloading aioice-0.6.18-py3-none-any.whl (19 kB)\n",
            "Collecting crc32c\n",
            "  Downloading crc32c-2.2.post0-cp37-cp37m-manylinux2010_x86_64.whl (49 kB)\n",
            "\u001b[K     |████████████████████████████████| 49 kB 4.9 MB/s \n",
            "\u001b[?25hRequirement already satisfied: pyzmq>=17 in /usr/local/lib/python3.7/dist-packages (from notebook==5.7.8->syft==0.2.9) (22.3.0)\n",
            "Requirement already satisfied: traitlets>=4.2.1 in /usr/local/lib/python3.7/dist-packages (from notebook==5.7.8->syft==0.2.9) (5.1.0)\n",
            "Requirement already satisfied: jupyter-core>=4.4.0 in /usr/local/lib/python3.7/dist-packages (from notebook==5.7.8->syft==0.2.9) (4.8.1)\n",
            "Requirement already satisfied: jinja2 in /usr/local/lib/python3.7/dist-packages (from notebook==5.7.8->syft==0.2.9) (2.11.3)\n",
            "Requirement already satisfied: ipykernel in /usr/local/lib/python3.7/dist-packages (from notebook==5.7.8->syft==0.2.9) (4.10.1)\n",
            "Requirement already satisfied: nbformat in /usr/local/lib/python3.7/dist-packages (from notebook==5.7.8->syft==0.2.9) (5.1.3)\n",
            "Requirement already satisfied: prometheus-client in /usr/local/lib/python3.7/dist-packages (from notebook==5.7.8->syft==0.2.9) (0.11.0)\n",
            "Requirement already satisfied: jupyter-client>=5.2.0 in /usr/local/lib/python3.7/dist-packages (from notebook==5.7.8->syft==0.2.9) (5.3.5)\n",
            "Requirement already satisfied: Send2Trash in /usr/local/lib/python3.7/dist-packages (from notebook==5.7.8->syft==0.2.9) (1.8.0)\n",
            "Requirement already satisfied: terminado>=0.8.1 in /usr/local/lib/python3.7/dist-packages (from notebook==5.7.8->syft==0.2.9) (0.12.1)\n",
            "Requirement already satisfied: nbconvert in /usr/local/lib/python3.7/dist-packages (from notebook==5.7.8->syft==0.2.9) (5.6.1)\n",
            "Requirement already satisfied: ipython-genutils in /usr/local/lib/python3.7/dist-packages (from notebook==5.7.8->syft==0.2.9) (0.2.0)\n",
            "Requirement already satisfied: pycparser>=2 in /usr/local/lib/python3.7/dist-packages (from shaloop==0.2.1-alpha.11->syft==0.2.9) (2.20)\n",
            "Requirement already satisfied: netifaces in /usr/local/lib/python3.7/dist-packages (from aioice<0.7.0,>=0.6.17->aiortc==0.9.28->syft==0.2.9) (0.11.0)\n",
            "Requirement already satisfied: click<8.0,>=5.1 in /usr/local/lib/python3.7/dist-packages (from Flask~=1.1.1->syft==0.2.9) (7.1.2)\n",
            "Requirement already satisfied: itsdangerous<2.0,>=0.24 in /usr/local/lib/python3.7/dist-packages (from Flask~=1.1.1->syft==0.2.9) (1.1.0)\n",
            "Requirement already satisfied: Werkzeug<2.0,>=0.15 in /usr/local/lib/python3.7/dist-packages (from Flask~=1.1.1->syft==0.2.9) (1.0.1)\n",
            "Collecting python-socketio>=4.3.0\n",
            "  Downloading python_socketio-5.4.0-py3-none-any.whl (55 kB)\n",
            "\u001b[K     |████████████████████████████████| 55 kB 2.4 MB/s \n",
            "\u001b[?25hRequirement already satisfied: importlib-metadata in /usr/local/lib/python3.7/dist-packages (from importlib-resources~=1.5.0->syft==0.2.9) (4.8.1)\n",
            "Requirement already satisfied: zipp>=0.4 in /usr/local/lib/python3.7/dist-packages (from importlib-resources~=1.5.0->syft==0.2.9) (3.6.0)\n",
            "Requirement already satisfied: MarkupSafe>=0.23 in /usr/local/lib/python3.7/dist-packages (from jinja2->notebook==5.7.8->syft==0.2.9) (2.0.1)\n",
            "Requirement already satisfied: python-dateutil>=2.1 in /usr/local/lib/python3.7/dist-packages (from jupyter-client>=5.2.0->notebook==5.7.8->syft==0.2.9) (2.8.2)\n",
            "Requirement already satisfied: six>=1.5 in /usr/local/lib/python3.7/dist-packages (from python-dateutil>=2.1->jupyter-client>=5.2.0->notebook==5.7.8->syft==0.2.9) (1.15.0)\n",
            "Collecting bidict>=0.21.0\n",
            "  Downloading bidict-0.21.3-py3-none-any.whl (36 kB)\n",
            "Collecting python-engineio>=4.1.0\n",
            "  Downloading python_engineio-4.2.1-py3-none-any.whl (52 kB)\n",
            "\u001b[K     |████████████████████████████████| 52 kB 583 kB/s \n",
            "\u001b[?25hRequirement already satisfied: chardet<3.1.0,>=3.0.2 in /usr/local/lib/python3.7/dist-packages (from requests~=2.22.0->syft==0.2.9) (3.0.4)\n",
            "Requirement already satisfied: certifi>=2017.4.17 in /usr/local/lib/python3.7/dist-packages (from requests~=2.22.0->syft==0.2.9) (2021.5.30)\n",
            "Collecting idna<2.9,>=2.5\n",
            "  Downloading idna-2.8-py2.py3-none-any.whl (58 kB)\n",
            "\u001b[K     |████████████████████████████████| 58 kB 5.3 MB/s \n",
            "\u001b[?25hRequirement already satisfied: urllib3!=1.25.0,!=1.25.1,<1.26,>=1.21.1 in /usr/local/lib/python3.7/dist-packages (from requests~=2.22.0->syft==0.2.9) (1.24.3)\n",
            "Requirement already satisfied: protobuf>=3.12.2 in /usr/local/lib/python3.7/dist-packages (from syft-proto~=0.5.2->syft==0.2.9) (3.17.3)\n",
            "Requirement already satisfied: ptyprocess in /usr/local/lib/python3.7/dist-packages (from terminado>=0.8.1->notebook==5.7.8->syft==0.2.9) (0.7.0)\n",
            "Requirement already satisfied: typing-extensions>=3.6.4 in /usr/local/lib/python3.7/dist-packages (from importlib-metadata->importlib-resources~=1.5.0->syft==0.2.9) (3.7.4.3)\n",
            "Requirement already satisfied: ipython>=4.0.0 in /usr/local/lib/python3.7/dist-packages (from ipykernel->notebook==5.7.8->syft==0.2.9) (5.5.0)\n",
            "Requirement already satisfied: pexpect in /usr/local/lib/python3.7/dist-packages (from ipython>=4.0.0->ipykernel->notebook==5.7.8->syft==0.2.9) (4.8.0)\n",
            "Requirement already satisfied: setuptools>=18.5 in /usr/local/lib/python3.7/dist-packages (from ipython>=4.0.0->ipykernel->notebook==5.7.8->syft==0.2.9) (57.4.0)\n",
            "Requirement already satisfied: simplegeneric>0.8 in /usr/local/lib/python3.7/dist-packages (from ipython>=4.0.0->ipykernel->notebook==5.7.8->syft==0.2.9) (0.8.1)\n",
            "Requirement already satisfied: pickleshare in /usr/local/lib/python3.7/dist-packages (from ipython>=4.0.0->ipykernel->notebook==5.7.8->syft==0.2.9) (0.7.5)\n",
            "Requirement already satisfied: pygments in /usr/local/lib/python3.7/dist-packages (from ipython>=4.0.0->ipykernel->notebook==5.7.8->syft==0.2.9) (2.6.1)\n",
            "Requirement already satisfied: decorator in /usr/local/lib/python3.7/dist-packages (from ipython>=4.0.0->ipykernel->notebook==5.7.8->syft==0.2.9) (4.4.2)\n",
            "Requirement already satisfied: prompt-toolkit<2.0.0,>=1.0.4 in /usr/local/lib/python3.7/dist-packages (from ipython>=4.0.0->ipykernel->notebook==5.7.8->syft==0.2.9) (1.0.18)\n",
            "Requirement already satisfied: wcwidth in /usr/local/lib/python3.7/dist-packages (from prompt-toolkit<2.0.0,>=1.0.4->ipython>=4.0.0->ipykernel->notebook==5.7.8->syft==0.2.9) (0.2.5)\n",
            "Requirement already satisfied: testpath in /usr/local/lib/python3.7/dist-packages (from nbconvert->notebook==5.7.8->syft==0.2.9) (0.5.0)\n",
            "Requirement already satisfied: entrypoints>=0.2.2 in /usr/local/lib/python3.7/dist-packages (from nbconvert->notebook==5.7.8->syft==0.2.9) (0.3)\n",
            "Requirement already satisfied: pandocfilters>=1.4.1 in /usr/local/lib/python3.7/dist-packages (from nbconvert->notebook==5.7.8->syft==0.2.9) (1.5.0)\n",
            "Requirement already satisfied: mistune<2,>=0.8.1 in /usr/local/lib/python3.7/dist-packages (from nbconvert->notebook==5.7.8->syft==0.2.9) (0.8.4)\n",
            "Requirement already satisfied: defusedxml in /usr/local/lib/python3.7/dist-packages (from nbconvert->notebook==5.7.8->syft==0.2.9) (0.7.1)\n",
            "Requirement already satisfied: bleach in /usr/local/lib/python3.7/dist-packages (from nbconvert->notebook==5.7.8->syft==0.2.9) (4.1.0)\n",
            "Requirement already satisfied: jsonschema!=2.5.0,>=2.4 in /usr/local/lib/python3.7/dist-packages (from nbformat->notebook==5.7.8->syft==0.2.9) (2.6.0)\n",
            "Requirement already satisfied: packaging in /usr/local/lib/python3.7/dist-packages (from bleach->nbconvert->notebook==5.7.8->syft==0.2.9) (21.0)\n",
            "Requirement already satisfied: webencodings in /usr/local/lib/python3.7/dist-packages (from bleach->nbconvert->notebook==5.7.8->syft==0.2.9) (0.5.1)\n",
            "Requirement already satisfied: pyparsing>=2.0.2 in /usr/local/lib/python3.7/dist-packages (from packaging->bleach->nbconvert->notebook==5.7.8->syft==0.2.9) (2.4.7)\n",
            "Building wheels for collected packages: openmined.threepio, psutil, tornado, phe\n",
            "  Building wheel for openmined.threepio (setup.py) ... \u001b[?25l\u001b[?25hdone\n",
            "  Created wheel for openmined.threepio: filename=openmined.threepio-0.2.0-py3-none-any.whl size=80095 sha256=4c4e75ba6cb08ecf8a52dc8dbf482ccce3d8d98bc511b141d7f593d46bd301af\n",
            "  Stored in directory: /root/.cache/pip/wheels/97/3d/ce/4ca4386006e622cb87d5116e5e65026ec021d3cf906a9b3d5d\n",
            "  Building wheel for psutil (setup.py) ... \u001b[?25l\u001b[?25hdone\n",
            "  Created wheel for psutil: filename=psutil-5.7.0-cp37-cp37m-linux_x86_64.whl size=276504 sha256=530fa5eab8e1cf6b38eb2cd6daddc5bae2d845b131511d86b598f9a26901495e\n",
            "  Stored in directory: /root/.cache/pip/wheels/b6/e7/50/aee9cc966163d74430f13f208171dee22f11efa4a4a826661c\n",
            "  Building wheel for tornado (setup.py) ... \u001b[?25l\u001b[?25hdone\n",
            "  Created wheel for tornado: filename=tornado-4.5.3-cp37-cp37m-linux_x86_64.whl size=434059 sha256=822afa97cc806f22d32da83c72bf33d162f44bf72a7df15a8ede59ae53b6c3b4\n",
            "  Stored in directory: /root/.cache/pip/wheels/a2/45/43/36ec7a893e16c1212a6b1505ded0a2d73cf8e863a0227c8e04\n",
            "  Building wheel for phe (setup.py) ... \u001b[?25l\u001b[?25hdone\n",
            "  Created wheel for phe: filename=phe-1.4.0-py2.py3-none-any.whl size=37362 sha256=15cb0caf42630102f5a69f9cf59323d39434863f2b3a5615f4197aa1f9f5db05\n",
            "  Stored in directory: /root/.cache/pip/wheels/bb/ac/9b/b07a04fe6bb1418ab4ee06d6652757aef848b80363c4dac507\n",
            "Successfully built openmined.threepio psutil tornado phe\n",
            "Installing collected packages: tornado, python-engineio, idna, bidict, torch, requests, python-socketio, numpy, crc32c, aioice, websockets, websocket-client, torchvision, tblib, shaloop, RestrictedPython, psutil, phe, openmined.threepio, notebook, lz4, importlib-resources, flask-socketio, aiortc, syft\n",
            "  Attempting uninstall: tornado\n",
            "    Found existing installation: tornado 5.1.1\n",
            "    Uninstalling tornado-5.1.1:\n",
            "      Successfully uninstalled tornado-5.1.1\n",
            "  Attempting uninstall: idna\n",
            "    Found existing installation: idna 2.10\n",
            "    Uninstalling idna-2.10:\n",
            "      Successfully uninstalled idna-2.10\n",
            "  Attempting uninstall: torch\n",
            "    Found existing installation: torch 1.8.1+rocm4.0.1\n",
            "    Uninstalling torch-1.8.1+rocm4.0.1:\n",
            "      Successfully uninstalled torch-1.8.1+rocm4.0.1\n",
            "  Attempting uninstall: requests\n",
            "    Found existing installation: requests 2.23.0\n",
            "    Uninstalling requests-2.23.0:\n",
            "      Successfully uninstalled requests-2.23.0\n",
            "  Attempting uninstall: numpy\n",
            "    Found existing installation: numpy 1.19.5\n",
            "    Uninstalling numpy-1.19.5:\n",
            "      Successfully uninstalled numpy-1.19.5\n",
            "  Attempting uninstall: aioice\n",
            "    Found existing installation: aioice 0.7.5\n",
            "    Uninstalling aioice-0.7.5:\n",
            "      Successfully uninstalled aioice-0.7.5\n",
            "  Attempting uninstall: websocket-client\n",
            "    Found existing installation: websocket-client 1.2.1\n",
            "    Uninstalling websocket-client-1.2.1:\n",
            "      Successfully uninstalled websocket-client-1.2.1\n",
            "  Attempting uninstall: torchvision\n",
            "    Found existing installation: torchvision 0.9.1\n",
            "    Uninstalling torchvision-0.9.1:\n",
            "      Successfully uninstalled torchvision-0.9.1\n",
            "  Attempting uninstall: tblib\n",
            "    Found existing installation: tblib 1.7.0\n",
            "    Uninstalling tblib-1.7.0:\n",
            "      Successfully uninstalled tblib-1.7.0\n",
            "  Attempting uninstall: psutil\n",
            "    Found existing installation: psutil 5.4.8\n",
            "    Uninstalling psutil-5.4.8:\n",
            "      Successfully uninstalled psutil-5.4.8\n",
            "  Attempting uninstall: notebook\n",
            "    Found existing installation: notebook 5.3.1\n",
            "    Uninstalling notebook-5.3.1:\n",
            "      Successfully uninstalled notebook-5.3.1\n",
            "  Attempting uninstall: importlib-resources\n",
            "    Found existing installation: importlib-resources 5.2.2\n",
            "    Uninstalling importlib-resources-5.2.2:\n",
            "      Successfully uninstalled importlib-resources-5.2.2\n",
            "  Attempting uninstall: aiortc\n",
            "    Found existing installation: aiortc 1.2.1\n",
            "    Uninstalling aiortc-1.2.1:\n",
            "      Successfully uninstalled aiortc-1.2.1\n",
            "  Attempting uninstall: syft\n",
            "    Found existing installation: syft 0.5.0\n",
            "    Uninstalling syft-0.5.0:\n",
            "      Successfully uninstalled syft-0.5.0\n",
            "\u001b[31mERROR: pip's dependency resolver does not currently take into account all the packages that are installed. This behaviour is the source of the following dependency conflicts.\n",
            "torchtext 0.10.0 requires torch==1.9.0, but you have torch 1.4.0 which is incompatible.\n",
            "torchcsprng 0.2.1 requires torch==1.8.1, but you have torch 1.4.0 which is incompatible.\n",
            "tensorflow 2.6.0 requires numpy~=1.19.2, but you have numpy 1.18.5 which is incompatible.\n",
            "google-colab 1.0.0 requires notebook~=5.3.0; python_version >= \"3.0\", but you have notebook 5.7.8 which is incompatible.\n",
            "google-colab 1.0.0 requires requests~=2.23.0, but you have requests 2.22.0 which is incompatible.\n",
            "google-colab 1.0.0 requires tornado~=5.1.0; python_version >= \"3.0\", but you have tornado 4.5.3 which is incompatible.\n",
            "datascience 0.10.6 requires folium==0.2.1, but you have folium 0.8.3 which is incompatible.\n",
            "bokeh 2.3.3 requires tornado>=5.1, but you have tornado 4.5.3 which is incompatible.\n",
            "albumentations 0.1.12 requires imgaug<0.2.7,>=0.2.5, but you have imgaug 0.2.9 which is incompatible.\u001b[0m\n",
            "Successfully installed RestrictedPython-5.1 aioice-0.6.18 aiortc-0.9.28 bidict-0.21.3 crc32c-2.2.post0 flask-socketio-4.2.1 idna-2.8 importlib-resources-1.5.0 lz4-3.0.2 notebook-5.7.8 numpy-1.18.5 openmined.threepio-0.2.0 phe-1.4.0 psutil-5.7.0 python-engineio-4.2.1 python-socketio-5.4.0 requests-2.22.0 shaloop-0.2.1a11 syft-0.2.9 tblib-1.6.0 torch-1.4.0 torchvision-0.5.0 tornado-4.5.3 websocket-client-0.57.0 websockets-8.1\n"
          ]
        },
        {
          "output_type": "display_data",
          "data": {
            "application/vnd.colab-display-data+json": {
              "pip_warning": {
                "packages": [
                  "aioice",
                  "aiortc",
                  "idna",
                  "notebook",
                  "numpy",
                  "psutil",
                  "requests",
                  "syft",
                  "torch",
                  "torchvision",
                  "tornado"
                ]
              }
            }
          },
          "metadata": {}
        }
      ]
    },
    {
      "cell_type": "code",
      "metadata": {
        "id": "OMsO_Anfw3SC"
      },
      "source": [
        "import syft as sy\n",
        "import torch as th\n",
        "hook = sy.TorchHook(th)\n",
        "from torch import nn, optim"
      ],
      "execution_count": null,
      "outputs": []
    },
    {
      "cell_type": "code",
      "metadata": {
        "colab": {
          "base_uri": "https://localhost:8080/"
        },
        "id": "eNnnvsQNw3SD",
        "outputId": "3852c15a-09b6-4d3c-8b6e-ac7d59239a5b"
      },
      "source": [
        "n_hospitals = 4\n",
        "hospitals = []\n",
        "for i in range(n_hospitals):\n",
        "    hospital_name = 'hospital{}'.format(i)\n",
        "    hospital = sy.VirtualWorker(hook, id = hospital_name)\n",
        "    print(hospital)\n",
        "    print(str(hospital._objects))\n",
        "    hospitals.append(hospital)\n",
        "secure_worker = sy.VirtualWorker(hook, id=\"secure_worker\")\n",
        "print(secure_worker)\n",
        "print(secure_worker._objects)\n",
        "\n",
        "def get_workers_names(workers):\n",
        "    return [worker.id for worker in workers]\n",
        "\n",
        "def add_and_print_workers(worker, workers):\n",
        "    print('workers of {} = {}'.format(worker.id, get_workers_names(workers)))\n",
        "    worker.add_workers(workers)\n",
        "\n",
        "for i in range(n_hospitals):\n",
        "    workers = [hospitals[i2] for i2 in range(n_hospitals) if i2 != i] + [secure_worker]\n",
        "    add_and_print_workers(hospitals[i], workers)\n",
        "add_and_print_workers(secure_worker, hospitals)\n"
      ],
      "execution_count": null,
      "outputs": [
        {
          "output_type": "stream",
          "name": "stderr",
          "text": [
            "Worker hospital1 already exists. Replacing old worker which could cause                     unexpected behavior\n",
            "Worker hospital2 already exists. Replacing old worker which could cause                     unexpected behavior\n",
            "Worker hospital3 already exists. Replacing old worker which could cause                     unexpected behavior\n",
            "Worker secure_worker already exists. Replacing old worker which could cause                     unexpected behavior\n",
            "Worker hospital0 already exists. Replacing old worker which could cause                     unexpected behavior\n",
            "Worker hospital2 already exists. Replacing old worker which could cause                     unexpected behavior\n",
            "Worker hospital3 already exists. Replacing old worker which could cause                     unexpected behavior\n",
            "Worker secure_worker already exists. Replacing old worker which could cause                     unexpected behavior\n",
            "Worker hospital0 already exists. Replacing old worker which could cause                     unexpected behavior\n",
            "Worker hospital1 already exists. Replacing old worker which could cause                     unexpected behavior\n",
            "Worker hospital3 already exists. Replacing old worker which could cause                     unexpected behavior\n",
            "Worker secure_worker already exists. Replacing old worker which could cause                     unexpected behavior\n",
            "Worker hospital0 already exists. Replacing old worker which could cause                     unexpected behavior\n",
            "Worker hospital1 already exists. Replacing old worker which could cause                     unexpected behavior\n",
            "Worker hospital2 already exists. Replacing old worker which could cause                     unexpected behavior\n",
            "Worker secure_worker already exists. Replacing old worker which could cause                     unexpected behavior\n",
            "Worker hospital0 already exists. Replacing old worker which could cause                     unexpected behavior\n",
            "Worker hospital1 already exists. Replacing old worker which could cause                     unexpected behavior\n",
            "Worker hospital2 already exists. Replacing old worker which could cause                     unexpected behavior\n",
            "Worker hospital3 already exists. Replacing old worker which could cause                     unexpected behavior\n"
          ]
        },
        {
          "output_type": "stream",
          "name": "stdout",
          "text": [
            "<VirtualWorker id:hospital0 #objects:0>\n",
            "{}\n",
            "<VirtualWorker id:hospital1 #objects:0>\n",
            "{}\n",
            "<VirtualWorker id:hospital2 #objects:0>\n",
            "{}\n",
            "<VirtualWorker id:hospital3 #objects:0>\n",
            "{}\n",
            "<VirtualWorker id:secure_worker #objects:0>\n",
            "{}\n",
            "workers of hospital0 = ['hospital1', 'hospital2', 'hospital3', 'secure_worker']\n",
            "workers of hospital1 = ['hospital0', 'hospital2', 'hospital3', 'secure_worker']\n",
            "workers of hospital2 = ['hospital0', 'hospital1', 'hospital3', 'secure_worker']\n",
            "workers of hospital3 = ['hospital0', 'hospital1', 'hospital2', 'secure_worker']\n",
            "workers of secure_worker = ['hospital0', 'hospital1', 'hospital2', 'hospital3']\n"
          ]
        }
      ]
    },
    {
      "cell_type": "code",
      "metadata": {
        "colab": {
          "base_uri": "https://localhost:8080/"
        },
        "id": "Hw3kb7xzw3SE",
        "outputId": "f560715c-92b8-41fd-cbda-7469c22877e6"
      },
      "source": [
        "n_samples = train_data.shape[0]\n",
        "print(n_samples)\n",
        "print(n_hospitals)\n",
        "samples_per_hospital = int((n_samples + 0.5) / n_hospitals)\n",
        "print(samples_per_hospital)"
      ],
      "execution_count": null,
      "outputs": [
        {
          "output_type": "stream",
          "name": "stdout",
          "text": [
            "96\n",
            "4\n",
            "24\n"
          ]
        }
      ]
    },
    {
      "cell_type": "code",
      "metadata": {
        "id": "eM96JK276ptt"
      },
      "source": [
        "hospital_features = []\n",
        "hospital_targets1 = []\n",
        "hospital_targets2 = []"
      ],
      "execution_count": null,
      "outputs": []
    },
    {
      "cell_type": "code",
      "metadata": {
        "colab": {
          "base_uri": "https://localhost:8080/"
        },
        "id": "SHx4nN4C7GKO",
        "outputId": "ac6a6d6f-fd11-4990-88ce-9136c99a7a84"
      },
      "source": [
        "train_data = th.tensor(train_data, dtype = torch.float32, requires_grad=True)\n",
        "train_data"
      ],
      "execution_count": null,
      "outputs": [
        {
          "output_type": "stream",
          "name": "stderr",
          "text": [
            "/usr/local/lib/python3.7/dist-packages/syft/frameworks/torch/hook/hook.py:560: UserWarning: To copy construct from a tensor, it is recommended to use sourceTensor.clone().detach() or sourceTensor.clone().detach().requires_grad_(True), rather than torch.tensor(sourceTensor).\n",
            "  current_tensor = hook_self.torch.native_tensor(*args, **kwargs)\n"
          ]
        },
        {
          "output_type": "execute_result",
          "data": {
            "text/plain": [
              "tensor([[40.2000,  1.0000,  1.0000,  1.0000,  1.0000,  1.0000,  1.0000,  1.0000],\n",
              "        [40.6000,  1.0000,  1.0000,  0.0000,  1.0000,  0.0000,  0.0000,  1.0000],\n",
              "        [37.7000,  0.0000,  1.0000,  0.0000,  0.0000,  0.0000,  0.0000,  0.0000],\n",
              "        [36.8000,  0.0000,  0.0000,  1.0000,  1.0000,  1.0000,  1.0000,  0.0000],\n",
              "        [36.7000,  0.0000,  1.0000,  0.0000,  0.0000,  0.0000,  0.0000,  0.0000],\n",
              "        [37.8000,  0.0000,  1.0000,  0.0000,  0.0000,  0.0000,  0.0000,  0.0000],\n",
              "        [38.5000,  0.0000,  1.0000,  1.0000,  0.0000,  1.0000,  0.0000,  1.0000],\n",
              "        [40.6000,  1.0000,  1.0000,  1.0000,  1.0000,  1.0000,  1.0000,  1.0000],\n",
              "        [37.2000,  0.0000,  0.0000,  1.0000,  1.0000,  0.0000,  1.0000,  0.0000],\n",
              "        [41.1000,  1.0000,  1.0000,  0.0000,  1.0000,  0.0000,  0.0000,  1.0000],\n",
              "        [37.6000,  0.0000,  0.0000,  1.0000,  1.0000,  0.0000,  1.0000,  0.0000],\n",
              "        [40.1000,  1.0000,  1.0000,  1.0000,  1.0000,  0.0000,  1.0000,  1.0000],\n",
              "        [40.0000,  0.0000,  0.0000,  0.0000,  0.0000,  0.0000,  0.0000,  0.0000],\n",
              "        [37.9000,  0.0000,  0.0000,  1.0000,  1.0000,  1.0000,  1.0000,  0.0000],\n",
              "        [41.1000,  0.0000,  1.0000,  1.0000,  0.0000,  1.0000,  0.0000,  1.0000],\n",
              "        [41.3000,  1.0000,  1.0000,  1.0000,  1.0000,  0.0000,  1.0000,  1.0000],\n",
              "        [40.9000,  1.0000,  1.0000,  1.0000,  1.0000,  0.0000,  1.0000,  1.0000],\n",
              "        [35.9000,  0.0000,  0.0000,  1.0000,  1.0000,  1.0000,  1.0000,  0.0000],\n",
              "        [37.9000,  0.0000,  0.0000,  1.0000,  1.0000,  0.0000,  1.0000,  0.0000],\n",
              "        [37.0000,  0.0000,  0.0000,  1.0000,  1.0000,  1.0000,  1.0000,  0.0000],\n",
              "        [36.7000,  0.0000,  1.0000,  0.0000,  0.0000,  0.0000,  0.0000,  0.0000],\n",
              "        [40.4000,  0.0000,  0.0000,  0.0000,  0.0000,  0.0000,  0.0000,  0.0000],\n",
              "        [40.4000,  1.0000,  1.0000,  0.0000,  1.0000,  0.0000,  0.0000,  1.0000],\n",
              "        [41.2000,  1.0000,  1.0000,  1.0000,  1.0000,  1.0000,  1.0000,  1.0000],\n",
              "        [40.7000,  1.0000,  1.0000,  1.0000,  1.0000,  0.0000,  1.0000,  1.0000],\n",
              "        [40.0000,  0.0000,  1.0000,  1.0000,  0.0000,  1.0000,  0.0000,  1.0000],\n",
              "        [40.7000,  0.0000,  0.0000,  0.0000,  0.0000,  0.0000,  0.0000,  0.0000],\n",
              "        [40.4000,  1.0000,  1.0000,  1.0000,  1.0000,  0.0000,  1.0000,  1.0000],\n",
              "        [37.1000,  0.0000,  1.0000,  0.0000,  0.0000,  0.0000,  0.0000,  0.0000],\n",
              "        [40.3000,  0.0000,  1.0000,  1.0000,  0.0000,  1.0000,  0.0000,  1.0000],\n",
              "        [35.9000,  0.0000,  1.0000,  0.0000,  0.0000,  0.0000,  0.0000,  0.0000],\n",
              "        [37.3000,  0.0000,  1.0000,  0.0000,  0.0000,  0.0000,  0.0000,  0.0000],\n",
              "        [40.7000,  1.0000,  1.0000,  0.0000,  1.0000,  0.0000,  0.0000,  1.0000],\n",
              "        [37.6000,  0.0000,  0.0000,  1.0000,  1.0000,  0.0000,  1.0000,  0.0000],\n",
              "        [37.6000,  0.0000,  0.0000,  1.0000,  1.0000,  1.0000,  1.0000,  0.0000],\n",
              "        [41.0000,  1.0000,  1.0000,  0.0000,  1.0000,  0.0000,  0.0000,  1.0000],\n",
              "        [37.0000,  0.0000,  0.0000,  1.0000,  1.0000,  1.0000,  1.0000,  0.0000],\n",
              "        [37.0000,  0.0000,  0.0000,  1.0000,  0.0000,  0.0000,  1.0000,  0.0000],\n",
              "        [37.7000,  0.0000,  0.0000,  1.0000,  1.0000,  0.0000,  1.0000,  0.0000],\n",
              "        [40.9000,  1.0000,  1.0000,  1.0000,  1.0000,  0.0000,  1.0000,  1.0000],\n",
              "        [37.5000,  0.0000,  0.0000,  1.0000,  1.0000,  0.0000,  1.0000,  0.0000],\n",
              "        [41.2000,  0.0000,  0.0000,  0.0000,  0.0000,  0.0000,  0.0000,  0.0000],\n",
              "        [41.5000,  0.0000,  1.0000,  1.0000,  0.0000,  1.0000,  0.0000,  1.0000],\n",
              "        [36.2000,  0.0000,  0.0000,  1.0000,  1.0000,  1.0000,  1.0000,  0.0000],\n",
              "        [40.8000,  0.0000,  1.0000,  1.0000,  0.0000,  1.0000,  0.0000,  1.0000],\n",
              "        [36.6000,  0.0000,  0.0000,  1.0000,  1.0000,  1.0000,  1.0000,  0.0000],\n",
              "        [41.4000,  0.0000,  1.0000,  1.0000,  0.0000,  1.0000,  0.0000,  1.0000],\n",
              "        [38.3000,  0.0000,  1.0000,  1.0000,  0.0000,  1.0000,  0.0000,  1.0000],\n",
              "        [39.7000,  0.0000,  1.0000,  1.0000,  0.0000,  1.0000,  0.0000,  1.0000],\n",
              "        [38.1000,  0.0000,  1.0000,  1.0000,  0.0000,  1.0000,  0.0000,  1.0000],\n",
              "        [37.1000,  0.0000,  0.0000,  1.0000,  0.0000,  0.0000,  1.0000,  0.0000],\n",
              "        [37.3000,  0.0000,  0.0000,  1.0000,  0.0000,  0.0000,  1.0000,  0.0000],\n",
              "        [40.0000,  1.0000,  1.0000,  0.0000,  1.0000,  0.0000,  0.0000,  1.0000],\n",
              "        [36.9000,  0.0000,  0.0000,  1.0000,  1.0000,  1.0000,  1.0000,  0.0000],\n",
              "        [37.1000,  0.0000,  0.0000,  1.0000,  1.0000,  1.0000,  1.0000,  0.0000],\n",
              "        [38.0000,  0.0000,  1.0000,  1.0000,  0.0000,  1.0000,  0.0000,  1.0000],\n",
              "        [37.0000,  0.0000,  0.0000,  1.0000,  1.0000,  1.0000,  1.0000,  0.0000],\n",
              "        [37.0000,  0.0000,  0.0000,  1.0000,  1.0000,  1.0000,  1.0000,  0.0000],\n",
              "        [36.0000,  0.0000,  1.0000,  0.0000,  0.0000,  0.0000,  0.0000,  0.0000],\n",
              "        [40.6000,  0.0000,  0.0000,  0.0000,  0.0000,  0.0000,  0.0000,  0.0000],\n",
              "        [41.0000,  0.0000,  1.0000,  1.0000,  0.0000,  1.0000,  0.0000,  1.0000],\n",
              "        [40.4000,  1.0000,  1.0000,  1.0000,  1.0000,  0.0000,  1.0000,  1.0000],\n",
              "        [35.5000,  0.0000,  1.0000,  0.0000,  0.0000,  0.0000,  0.0000,  0.0000],\n",
              "        [37.0000,  0.0000,  1.0000,  0.0000,  0.0000,  0.0000,  0.0000,  0.0000],\n",
              "        [38.0000,  0.0000,  1.0000,  1.0000,  0.0000,  1.0000,  0.0000,  1.0000],\n",
              "        [36.6000,  0.0000,  0.0000,  1.0000,  1.0000,  1.0000,  1.0000,  0.0000],\n",
              "        [41.1000,  0.0000,  0.0000,  0.0000,  0.0000,  0.0000,  0.0000,  0.0000],\n",
              "        [37.5000,  0.0000,  1.0000,  0.0000,  0.0000,  0.0000,  0.0000,  0.0000],\n",
              "        [40.0000,  1.0000,  1.0000,  0.0000,  1.0000,  0.0000,  0.0000,  1.0000],\n",
              "        [40.2000,  0.0000,  0.0000,  0.0000,  0.0000,  0.0000,  0.0000,  0.0000],\n",
              "        [36.9000,  0.0000,  1.0000,  0.0000,  0.0000,  0.0000,  0.0000,  0.0000],\n",
              "        [37.0000,  0.0000,  0.0000,  1.0000,  1.0000,  0.0000,  1.0000,  0.0000],\n",
              "        [39.0000,  0.0000,  1.0000,  1.0000,  0.0000,  1.0000,  0.0000,  1.0000],\n",
              "        [38.9000,  0.0000,  1.0000,  1.0000,  0.0000,  1.0000,  0.0000,  1.0000],\n",
              "        [40.9000,  0.0000,  1.0000,  1.0000,  0.0000,  1.0000,  0.0000,  1.0000],\n",
              "        [36.0000,  0.0000,  0.0000,  1.0000,  1.0000,  1.0000,  1.0000,  0.0000],\n",
              "        [37.9000,  0.0000,  0.0000,  1.0000,  0.0000,  0.0000,  1.0000,  0.0000],\n",
              "        [41.2000,  0.0000,  1.0000,  1.0000,  0.0000,  1.0000,  0.0000,  1.0000],\n",
              "        [40.0000,  1.0000,  1.0000,  1.0000,  1.0000,  1.0000,  1.0000,  1.0000],\n",
              "        [41.5000,  0.0000,  0.0000,  0.0000,  0.0000,  0.0000,  0.0000,  0.0000],\n",
              "        [37.9000,  0.0000,  1.0000,  0.0000,  0.0000,  0.0000,  0.0000,  0.0000],\n",
              "        [41.0000,  0.0000,  0.0000,  0.0000,  0.0000,  0.0000,  0.0000,  0.0000],\n",
              "        [36.6000,  0.0000,  1.0000,  0.0000,  0.0000,  0.0000,  0.0000,  0.0000],\n",
              "        [40.0000,  0.0000,  0.0000,  0.0000,  0.0000,  0.0000,  0.0000,  0.0000],\n",
              "        [41.5000,  1.0000,  1.0000,  0.0000,  1.0000,  0.0000,  0.0000,  1.0000],\n",
              "        [37.5000,  0.0000,  0.0000,  1.0000,  0.0000,  0.0000,  1.0000,  0.0000],\n",
              "        [36.0000,  0.0000,  1.0000,  0.0000,  0.0000,  0.0000,  0.0000,  0.0000],\n",
              "        [36.3000,  0.0000,  0.0000,  1.0000,  1.0000,  1.0000,  1.0000,  0.0000],\n",
              "        [37.8000,  0.0000,  0.0000,  1.0000,  0.0000,  0.0000,  1.0000,  0.0000],\n",
              "        [36.2000,  0.0000,  1.0000,  0.0000,  0.0000,  0.0000,  0.0000,  0.0000],\n",
              "        [40.4000,  1.0000,  1.0000,  1.0000,  1.0000,  1.0000,  1.0000,  1.0000],\n",
              "        [37.9000,  0.0000,  0.0000,  1.0000,  1.0000,  0.0000,  1.0000,  0.0000],\n",
              "        [37.5000,  0.0000,  1.0000,  0.0000,  0.0000,  0.0000,  0.0000,  0.0000],\n",
              "        [37.7000,  0.0000,  0.0000,  1.0000,  0.0000,  0.0000,  1.0000,  0.0000],\n",
              "        [37.4000,  0.0000,  0.0000,  1.0000,  0.0000,  0.0000,  1.0000,  0.0000],\n",
              "        [40.7000,  0.0000,  1.0000,  1.0000,  0.0000,  1.0000,  0.0000,  1.0000]],\n",
              "       requires_grad=True)"
            ]
          },
          "metadata": {},
          "execution_count": 23
        }
      ]
    },
    {
      "cell_type": "code",
      "metadata": {
        "colab": {
          "base_uri": "https://localhost:8080/"
        },
        "id": "y3MkvBI07KXK",
        "outputId": "0ecc46be-d590-4be2-add8-66cd43f67aa9"
      },
      "source": [
        "for i in range(n_hospitals):\n",
        "    train_data2 = train_data[i * samples_per_hospital:(i + 1) * samples_per_hospital].clone().detach().requires_grad_(True)\n",
        "    features = train_data2[:, :6].clone().detach().requires_grad_(True)\n",
        "    print(features)\n",
        "    targets1 = train_data2[:, 6][:, None].clone().detach() \n",
        "    print(targets1)\n",
        "    targets2 = train_data2[:, 7][:, None].clone().detach() \n",
        "    print(targets2)\n",
        "    hospital_features.append(features.send(hospitals[i]))\n",
        "    print(hospital_features)\n",
        "    hospital_targets1.append(targets1.send(hospitals[i]))\n",
        "    print(hospital_features)\n",
        "    hospital_targets2.append(targets2.send(hospitals[i]))\n",
        "    print(hospital_features)\n",
        "\n",
        "print(model)"
      ],
      "execution_count": null,
      "outputs": [
        {
          "output_type": "stream",
          "name": "stdout",
          "text": [
            "tensor([[40.2000,  1.0000,  1.0000,  1.0000,  1.0000,  1.0000],\n",
            "        [40.6000,  1.0000,  1.0000,  0.0000,  1.0000,  0.0000],\n",
            "        [37.7000,  0.0000,  1.0000,  0.0000,  0.0000,  0.0000],\n",
            "        [36.8000,  0.0000,  0.0000,  1.0000,  1.0000,  1.0000],\n",
            "        [36.7000,  0.0000,  1.0000,  0.0000,  0.0000,  0.0000],\n",
            "        [37.8000,  0.0000,  1.0000,  0.0000,  0.0000,  0.0000],\n",
            "        [38.5000,  0.0000,  1.0000,  1.0000,  0.0000,  1.0000],\n",
            "        [40.6000,  1.0000,  1.0000,  1.0000,  1.0000,  1.0000],\n",
            "        [37.2000,  0.0000,  0.0000,  1.0000,  1.0000,  0.0000],\n",
            "        [41.1000,  1.0000,  1.0000,  0.0000,  1.0000,  0.0000],\n",
            "        [37.6000,  0.0000,  0.0000,  1.0000,  1.0000,  0.0000],\n",
            "        [40.1000,  1.0000,  1.0000,  1.0000,  1.0000,  0.0000],\n",
            "        [40.0000,  0.0000,  0.0000,  0.0000,  0.0000,  0.0000],\n",
            "        [37.9000,  0.0000,  0.0000,  1.0000,  1.0000,  1.0000],\n",
            "        [41.1000,  0.0000,  1.0000,  1.0000,  0.0000,  1.0000],\n",
            "        [41.3000,  1.0000,  1.0000,  1.0000,  1.0000,  0.0000],\n",
            "        [40.9000,  1.0000,  1.0000,  1.0000,  1.0000,  0.0000],\n",
            "        [35.9000,  0.0000,  0.0000,  1.0000,  1.0000,  1.0000],\n",
            "        [37.9000,  0.0000,  0.0000,  1.0000,  1.0000,  0.0000],\n",
            "        [37.0000,  0.0000,  0.0000,  1.0000,  1.0000,  1.0000],\n",
            "        [36.7000,  0.0000,  1.0000,  0.0000,  0.0000,  0.0000],\n",
            "        [40.4000,  0.0000,  0.0000,  0.0000,  0.0000,  0.0000],\n",
            "        [40.4000,  1.0000,  1.0000,  0.0000,  1.0000,  0.0000],\n",
            "        [41.2000,  1.0000,  1.0000,  1.0000,  1.0000,  1.0000]],\n",
            "       requires_grad=True)\n",
            "tensor([[1.],\n",
            "        [0.],\n",
            "        [0.],\n",
            "        [1.],\n",
            "        [0.],\n",
            "        [0.],\n",
            "        [0.],\n",
            "        [1.],\n",
            "        [1.],\n",
            "        [0.],\n",
            "        [1.],\n",
            "        [1.],\n",
            "        [0.],\n",
            "        [1.],\n",
            "        [0.],\n",
            "        [1.],\n",
            "        [1.],\n",
            "        [1.],\n",
            "        [1.],\n",
            "        [1.],\n",
            "        [0.],\n",
            "        [0.],\n",
            "        [0.],\n",
            "        [1.]])\n",
            "tensor([[1.],\n",
            "        [1.],\n",
            "        [0.],\n",
            "        [0.],\n",
            "        [0.],\n",
            "        [0.],\n",
            "        [1.],\n",
            "        [1.],\n",
            "        [0.],\n",
            "        [1.],\n",
            "        [0.],\n",
            "        [1.],\n",
            "        [0.],\n",
            "        [0.],\n",
            "        [1.],\n",
            "        [1.],\n",
            "        [1.],\n",
            "        [0.],\n",
            "        [0.],\n",
            "        [0.],\n",
            "        [0.],\n",
            "        [0.],\n",
            "        [1.],\n",
            "        [1.]])\n",
            "[(Wrapper)>[PointerTensor | me:34032854810 -> hospital0:8977593315], (Wrapper)>[PointerTensor | me:43275020208 -> hospital1:41346441805], (Wrapper)>[PointerTensor | me:75649688249 -> hospital2:52637769910], (Wrapper)>[PointerTensor | me:60485253130 -> hospital3:89119107966], (Wrapper)>[PointerTensor | me:72548237109 -> hospital0:48502599446], (Wrapper)>[PointerTensor | me:881824371 -> hospital1:75654131329], (Wrapper)>[PointerTensor | me:6925509701 -> hospital2:75012453333], (Wrapper)>[PointerTensor | me:27279044089 -> hospital3:49869570612], (Wrapper)>[PointerTensor | me:9370692828 -> hospital0:89286891388], (Wrapper)>[PointerTensor | me:44285141110 -> hospital1:35729545573], (Wrapper)>[PointerTensor | me:97859088571 -> hospital2:12737986081], (Wrapper)>[PointerTensor | me:25327099605 -> hospital3:54253883782], (Wrapper)>[PointerTensor | me:35532838427 -> hospital0:24347089207]]\n",
            "[(Wrapper)>[PointerTensor | me:34032854810 -> hospital0:8977593315], (Wrapper)>[PointerTensor | me:43275020208 -> hospital1:41346441805], (Wrapper)>[PointerTensor | me:75649688249 -> hospital2:52637769910], (Wrapper)>[PointerTensor | me:60485253130 -> hospital3:89119107966], (Wrapper)>[PointerTensor | me:72548237109 -> hospital0:48502599446], (Wrapper)>[PointerTensor | me:881824371 -> hospital1:75654131329], (Wrapper)>[PointerTensor | me:6925509701 -> hospital2:75012453333], (Wrapper)>[PointerTensor | me:27279044089 -> hospital3:49869570612], (Wrapper)>[PointerTensor | me:9370692828 -> hospital0:89286891388], (Wrapper)>[PointerTensor | me:44285141110 -> hospital1:35729545573], (Wrapper)>[PointerTensor | me:97859088571 -> hospital2:12737986081], (Wrapper)>[PointerTensor | me:25327099605 -> hospital3:54253883782], (Wrapper)>[PointerTensor | me:35532838427 -> hospital0:24347089207]]\n",
            "[(Wrapper)>[PointerTensor | me:34032854810 -> hospital0:8977593315], (Wrapper)>[PointerTensor | me:43275020208 -> hospital1:41346441805], (Wrapper)>[PointerTensor | me:75649688249 -> hospital2:52637769910], (Wrapper)>[PointerTensor | me:60485253130 -> hospital3:89119107966], (Wrapper)>[PointerTensor | me:72548237109 -> hospital0:48502599446], (Wrapper)>[PointerTensor | me:881824371 -> hospital1:75654131329], (Wrapper)>[PointerTensor | me:6925509701 -> hospital2:75012453333], (Wrapper)>[PointerTensor | me:27279044089 -> hospital3:49869570612], (Wrapper)>[PointerTensor | me:9370692828 -> hospital0:89286891388], (Wrapper)>[PointerTensor | me:44285141110 -> hospital1:35729545573], (Wrapper)>[PointerTensor | me:97859088571 -> hospital2:12737986081], (Wrapper)>[PointerTensor | me:25327099605 -> hospital3:54253883782], (Wrapper)>[PointerTensor | me:35532838427 -> hospital0:24347089207]]\n",
            "tensor([[40.7000,  1.0000,  1.0000,  1.0000,  1.0000,  0.0000],\n",
            "        [40.0000,  0.0000,  1.0000,  1.0000,  0.0000,  1.0000],\n",
            "        [40.7000,  0.0000,  0.0000,  0.0000,  0.0000,  0.0000],\n",
            "        [40.4000,  1.0000,  1.0000,  1.0000,  1.0000,  0.0000],\n",
            "        [37.1000,  0.0000,  1.0000,  0.0000,  0.0000,  0.0000],\n",
            "        [40.3000,  0.0000,  1.0000,  1.0000,  0.0000,  1.0000],\n",
            "        [35.9000,  0.0000,  1.0000,  0.0000,  0.0000,  0.0000],\n",
            "        [37.3000,  0.0000,  1.0000,  0.0000,  0.0000,  0.0000],\n",
            "        [40.7000,  1.0000,  1.0000,  0.0000,  1.0000,  0.0000],\n",
            "        [37.6000,  0.0000,  0.0000,  1.0000,  1.0000,  0.0000],\n",
            "        [37.6000,  0.0000,  0.0000,  1.0000,  1.0000,  1.0000],\n",
            "        [41.0000,  1.0000,  1.0000,  0.0000,  1.0000,  0.0000],\n",
            "        [37.0000,  0.0000,  0.0000,  1.0000,  1.0000,  1.0000],\n",
            "        [37.0000,  0.0000,  0.0000,  1.0000,  0.0000,  0.0000],\n",
            "        [37.7000,  0.0000,  0.0000,  1.0000,  1.0000,  0.0000],\n",
            "        [40.9000,  1.0000,  1.0000,  1.0000,  1.0000,  0.0000],\n",
            "        [37.5000,  0.0000,  0.0000,  1.0000,  1.0000,  0.0000],\n",
            "        [41.2000,  0.0000,  0.0000,  0.0000,  0.0000,  0.0000],\n",
            "        [41.5000,  0.0000,  1.0000,  1.0000,  0.0000,  1.0000],\n",
            "        [36.2000,  0.0000,  0.0000,  1.0000,  1.0000,  1.0000],\n",
            "        [40.8000,  0.0000,  1.0000,  1.0000,  0.0000,  1.0000],\n",
            "        [36.6000,  0.0000,  0.0000,  1.0000,  1.0000,  1.0000],\n",
            "        [41.4000,  0.0000,  1.0000,  1.0000,  0.0000,  1.0000],\n",
            "        [38.3000,  0.0000,  1.0000,  1.0000,  0.0000,  1.0000]],\n",
            "       requires_grad=True)\n",
            "tensor([[1.],\n",
            "        [0.],\n",
            "        [0.],\n",
            "        [1.],\n",
            "        [0.],\n",
            "        [0.],\n",
            "        [0.],\n",
            "        [0.],\n",
            "        [0.],\n",
            "        [1.],\n",
            "        [1.],\n",
            "        [0.],\n",
            "        [1.],\n",
            "        [1.],\n",
            "        [1.],\n",
            "        [1.],\n",
            "        [1.],\n",
            "        [0.],\n",
            "        [0.],\n",
            "        [1.],\n",
            "        [0.],\n",
            "        [1.],\n",
            "        [0.],\n",
            "        [0.]])\n",
            "tensor([[1.],\n",
            "        [1.],\n",
            "        [0.],\n",
            "        [1.],\n",
            "        [0.],\n",
            "        [1.],\n",
            "        [0.],\n",
            "        [0.],\n",
            "        [1.],\n",
            "        [0.],\n",
            "        [0.],\n",
            "        [1.],\n",
            "        [0.],\n",
            "        [0.],\n",
            "        [0.],\n",
            "        [1.],\n",
            "        [0.],\n",
            "        [0.],\n",
            "        [1.],\n",
            "        [0.],\n",
            "        [1.],\n",
            "        [0.],\n",
            "        [1.],\n",
            "        [1.]])\n",
            "[(Wrapper)>[PointerTensor | me:34032854810 -> hospital0:8977593315], (Wrapper)>[PointerTensor | me:43275020208 -> hospital1:41346441805], (Wrapper)>[PointerTensor | me:75649688249 -> hospital2:52637769910], (Wrapper)>[PointerTensor | me:60485253130 -> hospital3:89119107966], (Wrapper)>[PointerTensor | me:72548237109 -> hospital0:48502599446], (Wrapper)>[PointerTensor | me:881824371 -> hospital1:75654131329], (Wrapper)>[PointerTensor | me:6925509701 -> hospital2:75012453333], (Wrapper)>[PointerTensor | me:27279044089 -> hospital3:49869570612], (Wrapper)>[PointerTensor | me:9370692828 -> hospital0:89286891388], (Wrapper)>[PointerTensor | me:44285141110 -> hospital1:35729545573], (Wrapper)>[PointerTensor | me:97859088571 -> hospital2:12737986081], (Wrapper)>[PointerTensor | me:25327099605 -> hospital3:54253883782], (Wrapper)>[PointerTensor | me:35532838427 -> hospital0:24347089207], (Wrapper)>[PointerTensor | me:99779003372 -> hospital1:66160912372]]\n",
            "[(Wrapper)>[PointerTensor | me:34032854810 -> hospital0:8977593315], (Wrapper)>[PointerTensor | me:43275020208 -> hospital1:41346441805], (Wrapper)>[PointerTensor | me:75649688249 -> hospital2:52637769910], (Wrapper)>[PointerTensor | me:60485253130 -> hospital3:89119107966], (Wrapper)>[PointerTensor | me:72548237109 -> hospital0:48502599446], (Wrapper)>[PointerTensor | me:881824371 -> hospital1:75654131329], (Wrapper)>[PointerTensor | me:6925509701 -> hospital2:75012453333], (Wrapper)>[PointerTensor | me:27279044089 -> hospital3:49869570612], (Wrapper)>[PointerTensor | me:9370692828 -> hospital0:89286891388], (Wrapper)>[PointerTensor | me:44285141110 -> hospital1:35729545573], (Wrapper)>[PointerTensor | me:97859088571 -> hospital2:12737986081], (Wrapper)>[PointerTensor | me:25327099605 -> hospital3:54253883782], (Wrapper)>[PointerTensor | me:35532838427 -> hospital0:24347089207], (Wrapper)>[PointerTensor | me:99779003372 -> hospital1:66160912372]]\n",
            "[(Wrapper)>[PointerTensor | me:34032854810 -> hospital0:8977593315], (Wrapper)>[PointerTensor | me:43275020208 -> hospital1:41346441805], (Wrapper)>[PointerTensor | me:75649688249 -> hospital2:52637769910], (Wrapper)>[PointerTensor | me:60485253130 -> hospital3:89119107966], (Wrapper)>[PointerTensor | me:72548237109 -> hospital0:48502599446], (Wrapper)>[PointerTensor | me:881824371 -> hospital1:75654131329], (Wrapper)>[PointerTensor | me:6925509701 -> hospital2:75012453333], (Wrapper)>[PointerTensor | me:27279044089 -> hospital3:49869570612], (Wrapper)>[PointerTensor | me:9370692828 -> hospital0:89286891388], (Wrapper)>[PointerTensor | me:44285141110 -> hospital1:35729545573], (Wrapper)>[PointerTensor | me:97859088571 -> hospital2:12737986081], (Wrapper)>[PointerTensor | me:25327099605 -> hospital3:54253883782], (Wrapper)>[PointerTensor | me:35532838427 -> hospital0:24347089207], (Wrapper)>[PointerTensor | me:99779003372 -> hospital1:66160912372]]\n",
            "tensor([[39.7000,  0.0000,  1.0000,  1.0000,  0.0000,  1.0000],\n",
            "        [38.1000,  0.0000,  1.0000,  1.0000,  0.0000,  1.0000],\n",
            "        [37.1000,  0.0000,  0.0000,  1.0000,  0.0000,  0.0000],\n",
            "        [37.3000,  0.0000,  0.0000,  1.0000,  0.0000,  0.0000],\n",
            "        [40.0000,  1.0000,  1.0000,  0.0000,  1.0000,  0.0000],\n",
            "        [36.9000,  0.0000,  0.0000,  1.0000,  1.0000,  1.0000],\n",
            "        [37.1000,  0.0000,  0.0000,  1.0000,  1.0000,  1.0000],\n",
            "        [38.0000,  0.0000,  1.0000,  1.0000,  0.0000,  1.0000],\n",
            "        [37.0000,  0.0000,  0.0000,  1.0000,  1.0000,  1.0000],\n",
            "        [37.0000,  0.0000,  0.0000,  1.0000,  1.0000,  1.0000],\n",
            "        [36.0000,  0.0000,  1.0000,  0.0000,  0.0000,  0.0000],\n",
            "        [40.6000,  0.0000,  0.0000,  0.0000,  0.0000,  0.0000],\n",
            "        [41.0000,  0.0000,  1.0000,  1.0000,  0.0000,  1.0000],\n",
            "        [40.4000,  1.0000,  1.0000,  1.0000,  1.0000,  0.0000],\n",
            "        [35.5000,  0.0000,  1.0000,  0.0000,  0.0000,  0.0000],\n",
            "        [37.0000,  0.0000,  1.0000,  0.0000,  0.0000,  0.0000],\n",
            "        [38.0000,  0.0000,  1.0000,  1.0000,  0.0000,  1.0000],\n",
            "        [36.6000,  0.0000,  0.0000,  1.0000,  1.0000,  1.0000],\n",
            "        [41.1000,  0.0000,  0.0000,  0.0000,  0.0000,  0.0000],\n",
            "        [37.5000,  0.0000,  1.0000,  0.0000,  0.0000,  0.0000],\n",
            "        [40.0000,  1.0000,  1.0000,  0.0000,  1.0000,  0.0000],\n",
            "        [40.2000,  0.0000,  0.0000,  0.0000,  0.0000,  0.0000],\n",
            "        [36.9000,  0.0000,  1.0000,  0.0000,  0.0000,  0.0000],\n",
            "        [37.0000,  0.0000,  0.0000,  1.0000,  1.0000,  0.0000]],\n",
            "       requires_grad=True)\n",
            "tensor([[0.],\n",
            "        [0.],\n",
            "        [1.],\n",
            "        [1.],\n",
            "        [0.],\n",
            "        [1.],\n",
            "        [1.],\n",
            "        [0.],\n",
            "        [1.],\n",
            "        [1.],\n",
            "        [0.],\n",
            "        [0.],\n",
            "        [0.],\n",
            "        [1.],\n",
            "        [0.],\n",
            "        [0.],\n",
            "        [0.],\n",
            "        [1.],\n",
            "        [0.],\n",
            "        [0.],\n",
            "        [0.],\n",
            "        [0.],\n",
            "        [0.],\n",
            "        [1.]])\n",
            "tensor([[1.],\n",
            "        [1.],\n",
            "        [0.],\n",
            "        [0.],\n",
            "        [1.],\n",
            "        [0.],\n",
            "        [0.],\n",
            "        [1.],\n",
            "        [0.],\n",
            "        [0.],\n",
            "        [0.],\n",
            "        [0.],\n",
            "        [1.],\n",
            "        [1.],\n",
            "        [0.],\n",
            "        [0.],\n",
            "        [1.],\n",
            "        [0.],\n",
            "        [0.],\n",
            "        [0.],\n",
            "        [1.],\n",
            "        [0.],\n",
            "        [0.],\n",
            "        [0.]])\n",
            "[(Wrapper)>[PointerTensor | me:34032854810 -> hospital0:8977593315], (Wrapper)>[PointerTensor | me:43275020208 -> hospital1:41346441805], (Wrapper)>[PointerTensor | me:75649688249 -> hospital2:52637769910], (Wrapper)>[PointerTensor | me:60485253130 -> hospital3:89119107966], (Wrapper)>[PointerTensor | me:72548237109 -> hospital0:48502599446], (Wrapper)>[PointerTensor | me:881824371 -> hospital1:75654131329], (Wrapper)>[PointerTensor | me:6925509701 -> hospital2:75012453333], (Wrapper)>[PointerTensor | me:27279044089 -> hospital3:49869570612], (Wrapper)>[PointerTensor | me:9370692828 -> hospital0:89286891388], (Wrapper)>[PointerTensor | me:44285141110 -> hospital1:35729545573], (Wrapper)>[PointerTensor | me:97859088571 -> hospital2:12737986081], (Wrapper)>[PointerTensor | me:25327099605 -> hospital3:54253883782], (Wrapper)>[PointerTensor | me:35532838427 -> hospital0:24347089207], (Wrapper)>[PointerTensor | me:99779003372 -> hospital1:66160912372], (Wrapper)>[PointerTensor | me:93629254939 -> hospital2:85613567367]]\n",
            "[(Wrapper)>[PointerTensor | me:34032854810 -> hospital0:8977593315], (Wrapper)>[PointerTensor | me:43275020208 -> hospital1:41346441805], (Wrapper)>[PointerTensor | me:75649688249 -> hospital2:52637769910], (Wrapper)>[PointerTensor | me:60485253130 -> hospital3:89119107966], (Wrapper)>[PointerTensor | me:72548237109 -> hospital0:48502599446], (Wrapper)>[PointerTensor | me:881824371 -> hospital1:75654131329], (Wrapper)>[PointerTensor | me:6925509701 -> hospital2:75012453333], (Wrapper)>[PointerTensor | me:27279044089 -> hospital3:49869570612], (Wrapper)>[PointerTensor | me:9370692828 -> hospital0:89286891388], (Wrapper)>[PointerTensor | me:44285141110 -> hospital1:35729545573], (Wrapper)>[PointerTensor | me:97859088571 -> hospital2:12737986081], (Wrapper)>[PointerTensor | me:25327099605 -> hospital3:54253883782], (Wrapper)>[PointerTensor | me:35532838427 -> hospital0:24347089207], (Wrapper)>[PointerTensor | me:99779003372 -> hospital1:66160912372], (Wrapper)>[PointerTensor | me:93629254939 -> hospital2:85613567367]]\n",
            "[(Wrapper)>[PointerTensor | me:34032854810 -> hospital0:8977593315], (Wrapper)>[PointerTensor | me:43275020208 -> hospital1:41346441805], (Wrapper)>[PointerTensor | me:75649688249 -> hospital2:52637769910], (Wrapper)>[PointerTensor | me:60485253130 -> hospital3:89119107966], (Wrapper)>[PointerTensor | me:72548237109 -> hospital0:48502599446], (Wrapper)>[PointerTensor | me:881824371 -> hospital1:75654131329], (Wrapper)>[PointerTensor | me:6925509701 -> hospital2:75012453333], (Wrapper)>[PointerTensor | me:27279044089 -> hospital3:49869570612], (Wrapper)>[PointerTensor | me:9370692828 -> hospital0:89286891388], (Wrapper)>[PointerTensor | me:44285141110 -> hospital1:35729545573], (Wrapper)>[PointerTensor | me:97859088571 -> hospital2:12737986081], (Wrapper)>[PointerTensor | me:25327099605 -> hospital3:54253883782], (Wrapper)>[PointerTensor | me:35532838427 -> hospital0:24347089207], (Wrapper)>[PointerTensor | me:99779003372 -> hospital1:66160912372], (Wrapper)>[PointerTensor | me:93629254939 -> hospital2:85613567367]]\n",
            "tensor([[39.0000,  0.0000,  1.0000,  1.0000,  0.0000,  1.0000],\n",
            "        [38.9000,  0.0000,  1.0000,  1.0000,  0.0000,  1.0000],\n",
            "        [40.9000,  0.0000,  1.0000,  1.0000,  0.0000,  1.0000],\n",
            "        [36.0000,  0.0000,  0.0000,  1.0000,  1.0000,  1.0000],\n",
            "        [37.9000,  0.0000,  0.0000,  1.0000,  0.0000,  0.0000],\n",
            "        [41.2000,  0.0000,  1.0000,  1.0000,  0.0000,  1.0000],\n",
            "        [40.0000,  1.0000,  1.0000,  1.0000,  1.0000,  1.0000],\n",
            "        [41.5000,  0.0000,  0.0000,  0.0000,  0.0000,  0.0000],\n",
            "        [37.9000,  0.0000,  1.0000,  0.0000,  0.0000,  0.0000],\n",
            "        [41.0000,  0.0000,  0.0000,  0.0000,  0.0000,  0.0000],\n",
            "        [36.6000,  0.0000,  1.0000,  0.0000,  0.0000,  0.0000],\n",
            "        [40.0000,  0.0000,  0.0000,  0.0000,  0.0000,  0.0000],\n",
            "        [41.5000,  1.0000,  1.0000,  0.0000,  1.0000,  0.0000],\n",
            "        [37.5000,  0.0000,  0.0000,  1.0000,  0.0000,  0.0000],\n",
            "        [36.0000,  0.0000,  1.0000,  0.0000,  0.0000,  0.0000],\n",
            "        [36.3000,  0.0000,  0.0000,  1.0000,  1.0000,  1.0000],\n",
            "        [37.8000,  0.0000,  0.0000,  1.0000,  0.0000,  0.0000],\n",
            "        [36.2000,  0.0000,  1.0000,  0.0000,  0.0000,  0.0000],\n",
            "        [40.4000,  1.0000,  1.0000,  1.0000,  1.0000,  1.0000],\n",
            "        [37.9000,  0.0000,  0.0000,  1.0000,  1.0000,  0.0000],\n",
            "        [37.5000,  0.0000,  1.0000,  0.0000,  0.0000,  0.0000],\n",
            "        [37.7000,  0.0000,  0.0000,  1.0000,  0.0000,  0.0000],\n",
            "        [37.4000,  0.0000,  0.0000,  1.0000,  0.0000,  0.0000],\n",
            "        [40.7000,  0.0000,  1.0000,  1.0000,  0.0000,  1.0000]],\n",
            "       requires_grad=True)\n",
            "tensor([[0.],\n",
            "        [0.],\n",
            "        [0.],\n",
            "        [1.],\n",
            "        [1.],\n",
            "        [0.],\n",
            "        [1.],\n",
            "        [0.],\n",
            "        [0.],\n",
            "        [0.],\n",
            "        [0.],\n",
            "        [0.],\n",
            "        [0.],\n",
            "        [1.],\n",
            "        [0.],\n",
            "        [1.],\n",
            "        [1.],\n",
            "        [0.],\n",
            "        [1.],\n",
            "        [1.],\n",
            "        [0.],\n",
            "        [1.],\n",
            "        [1.],\n",
            "        [0.]])\n",
            "tensor([[1.],\n",
            "        [1.],\n",
            "        [1.],\n",
            "        [0.],\n",
            "        [0.],\n",
            "        [1.],\n",
            "        [1.],\n",
            "        [0.],\n",
            "        [0.],\n",
            "        [0.],\n",
            "        [0.],\n",
            "        [0.],\n",
            "        [1.],\n",
            "        [0.],\n",
            "        [0.],\n",
            "        [0.],\n",
            "        [0.],\n",
            "        [0.],\n",
            "        [1.],\n",
            "        [0.],\n",
            "        [0.],\n",
            "        [0.],\n",
            "        [0.],\n",
            "        [1.]])\n",
            "[(Wrapper)>[PointerTensor | me:34032854810 -> hospital0:8977593315], (Wrapper)>[PointerTensor | me:43275020208 -> hospital1:41346441805], (Wrapper)>[PointerTensor | me:75649688249 -> hospital2:52637769910], (Wrapper)>[PointerTensor | me:60485253130 -> hospital3:89119107966], (Wrapper)>[PointerTensor | me:72548237109 -> hospital0:48502599446], (Wrapper)>[PointerTensor | me:881824371 -> hospital1:75654131329], (Wrapper)>[PointerTensor | me:6925509701 -> hospital2:75012453333], (Wrapper)>[PointerTensor | me:27279044089 -> hospital3:49869570612], (Wrapper)>[PointerTensor | me:9370692828 -> hospital0:89286891388], (Wrapper)>[PointerTensor | me:44285141110 -> hospital1:35729545573], (Wrapper)>[PointerTensor | me:97859088571 -> hospital2:12737986081], (Wrapper)>[PointerTensor | me:25327099605 -> hospital3:54253883782], (Wrapper)>[PointerTensor | me:35532838427 -> hospital0:24347089207], (Wrapper)>[PointerTensor | me:99779003372 -> hospital1:66160912372], (Wrapper)>[PointerTensor | me:93629254939 -> hospital2:85613567367], (Wrapper)>[PointerTensor | me:36140854725 -> hospital3:94671212079]]\n",
            "[(Wrapper)>[PointerTensor | me:34032854810 -> hospital0:8977593315], (Wrapper)>[PointerTensor | me:43275020208 -> hospital1:41346441805], (Wrapper)>[PointerTensor | me:75649688249 -> hospital2:52637769910], (Wrapper)>[PointerTensor | me:60485253130 -> hospital3:89119107966], (Wrapper)>[PointerTensor | me:72548237109 -> hospital0:48502599446], (Wrapper)>[PointerTensor | me:881824371 -> hospital1:75654131329], (Wrapper)>[PointerTensor | me:6925509701 -> hospital2:75012453333], (Wrapper)>[PointerTensor | me:27279044089 -> hospital3:49869570612], (Wrapper)>[PointerTensor | me:9370692828 -> hospital0:89286891388], (Wrapper)>[PointerTensor | me:44285141110 -> hospital1:35729545573], (Wrapper)>[PointerTensor | me:97859088571 -> hospital2:12737986081], (Wrapper)>[PointerTensor | me:25327099605 -> hospital3:54253883782], (Wrapper)>[PointerTensor | me:35532838427 -> hospital0:24347089207], (Wrapper)>[PointerTensor | me:99779003372 -> hospital1:66160912372], (Wrapper)>[PointerTensor | me:93629254939 -> hospital2:85613567367], (Wrapper)>[PointerTensor | me:36140854725 -> hospital3:94671212079]]\n",
            "[(Wrapper)>[PointerTensor | me:34032854810 -> hospital0:8977593315], (Wrapper)>[PointerTensor | me:43275020208 -> hospital1:41346441805], (Wrapper)>[PointerTensor | me:75649688249 -> hospital2:52637769910], (Wrapper)>[PointerTensor | me:60485253130 -> hospital3:89119107966], (Wrapper)>[PointerTensor | me:72548237109 -> hospital0:48502599446], (Wrapper)>[PointerTensor | me:881824371 -> hospital1:75654131329], (Wrapper)>[PointerTensor | me:6925509701 -> hospital2:75012453333], (Wrapper)>[PointerTensor | me:27279044089 -> hospital3:49869570612], (Wrapper)>[PointerTensor | me:9370692828 -> hospital0:89286891388], (Wrapper)>[PointerTensor | me:44285141110 -> hospital1:35729545573], (Wrapper)>[PointerTensor | me:97859088571 -> hospital2:12737986081], (Wrapper)>[PointerTensor | me:25327099605 -> hospital3:54253883782], (Wrapper)>[PointerTensor | me:35532838427 -> hospital0:24347089207], (Wrapper)>[PointerTensor | me:99779003372 -> hospital1:66160912372], (Wrapper)>[PointerTensor | me:93629254939 -> hospital2:85613567367], (Wrapper)>[PointerTensor | me:36140854725 -> hospital3:94671212079]]\n",
            "LogisticRegression(\n",
            "  (linear): Linear(in_features=6, out_features=1, bias=True)\n",
            ")\n"
          ]
        }
      ]
    },
    {
      "cell_type": "code",
      "metadata": {
        "id": "Mw3ybCqHw3SF"
      },
      "source": [
        "def plot_federated_graphs(diagnosis_title, losses, accuracies):\n",
        "    for i in range(n_hospitals):\n",
        "        plt.plot(losses[i], label=f'Hospital {i}')\n",
        "    legend = plt.legend(loc='upper right', shadow=True)\n",
        "    plt.title(f\"{diagnosis_title} - Training Loss\")\n",
        "    plt.xlabel(\"Iterations\")\n",
        "    plt.ylabel(\"Training Loss\")\n",
        "    plt.show()\n",
        "    for i in range(n_hospitals):\n",
        "        plt.plot(accuracies[i], label=f'Hospital {i}')\n",
        "    legend = plt.legend(loc='lower right', shadow=True)\n",
        "    plt.title(f\"{diagnosis_title} - Training Accuracy\")\n",
        "    plt.xlabel(\"Iterations\")\n",
        "    plt.ylabel(\"Training Accuracy (Percent %)\")\n",
        "    plt.show()\n",
        "    \n",
        "def compute_federated_accuracy(model, input, output):\n",
        "    prediction = model(input)\n",
        "    n_samples = prediction.shape[0]\n",
        "    s = 0.\n",
        "    for i in range(n_samples):\n",
        "        p = 1. if prediction[i] >= 0.5 else 0.\n",
        "        e = 1. if p == output[i] else 0.\n",
        "        s += e\n",
        "    return 100. * s / n_samples\n",
        "\n",
        "iterations = 1000 #2000\n",
        "worker_iterations = 5\n",
        "\n",
        "def federated_learning(diagnosis_title, hospital_features, hospital_targets, test_input, test_output):\n",
        "    model = LogisticRegression()\n",
        "    criterion = torch.nn.BCELoss(size_average=True)\n",
        "    optimizer = torch.optim.SGD(model.parameters(), lr=learning_rate)  \n",
        "    losses = [[] for i in range(n_hospitals)]\n",
        "    accuracies = [[] for i in range(n_hospitals)]\n",
        "    for iteration in range(iterations):\n",
        "        models = [model.copy().send(hospitals[i]) for i in range(n_hospitals)]\n",
        "        optimizers = [torch.optim.SGD(params = models[i].parameters(), lr = learning_rate) for i in range(n_hospitals)]\n",
        "        for worker_iteration in range(worker_iterations):\n",
        "            last_losses = []\n",
        "            for i in range(n_hospitals):\n",
        "                optimizers[i].zero_grad()\n",
        "                prediction = models[i](hospital_features[i])\n",
        "                loss = criterion(prediction, hospital_targets[i])\n",
        "                loss.backward()\n",
        "                optimizers[i].step()\n",
        "                loss = loss.get().data.item()\n",
        "                last_losses.append(loss)\n",
        "        for i in range(n_hospitals):\n",
        "            losses[i].append(last_losses[i])\n",
        "            train_acc = compute_federated_accuracy(models[i], hospital_features[i], hospital_targets[i])\n",
        "            accuracies[i].append(train_acc)\n",
        "            models[i].move(secure_worker)\n",
        "        with th.no_grad():\n",
        "            avg_weight = sum([models[i].linear.weight.data for i in range(n_hospitals)]) / n_hospitals\n",
        "            model.linear.weight.set_(avg_weight.get())\n",
        "            avg_bias = sum([models[i].linear.bias.data for i in range(n_hospitals)]) / n_hospitals\n",
        "            model.linear.bias.set_(avg_bias.get())\n",
        "        if iteration % 100 == 0:\n",
        "            losses_str = ['{:.4f}'.format(losses[i][-1]) for i in range(n_hospitals)]\n",
        "            accuracies_str = [to_percent(accuracies[i][-1]) for i in range(n_hospitals)]\n",
        "            print('Iteration={}, losses={}, accuracies={}'.format(iteration, losses_str, accuracies_str))\n",
        "    plot_federated_graphs(diagnosis_title, losses, accuracies)\n",
        "    test_acc = compute_accuracy(model, test_input, test_output)\n",
        "    print('\\nTesting Accuracy = {}'.format(to_percent(test_acc)))\n",
        "    return model\n"
      ],
      "execution_count": null,
      "outputs": []
    },
    {
      "cell_type": "code",
      "metadata": {
        "colab": {
          "base_uri": "https://localhost:8080/",
          "height": 831
        },
        "id": "59o0e8gxw3SF",
        "outputId": "f760806d-9e5a-4d46-9488-fb52d39d42c8"
      },
      "source": [
        "model = federated_learning(diagnosis_title1, hospital_features, hospital_targets1, test_input, test_output1)"
      ],
      "execution_count": null,
      "outputs": [
        {
          "output_type": "stream",
          "name": "stderr",
          "text": [
            "/usr/local/lib/python3.7/dist-packages/torch/nn/_reduction.py:43: UserWarning: size_average and reduce args will be deprecated, please use reduction='mean' instead.\n",
            "  warnings.warn(warning.format(ret))\n"
          ]
        },
        {
          "output_type": "stream",
          "name": "stdout",
          "text": [
            "Iteration=0, losses=['1.4865', '2.1261', '1.9188', '1.9846'], accuracies=['54.17%', '45.83%', '41.67%', '41.67%']\n",
            "Iteration=100, losses=['1.1242', '1.6388', '1.1361', '1.3791'], accuracies=['54.17%', '45.83%', '37.50%', '41.67%']\n",
            "Iteration=200, losses=['0.8991', '1.1369', '0.6437', '1.0380'], accuracies=['54.17%', '50.00%', '58.33%', '62.50%']\n",
            "Iteration=300, losses=['0.5080', '0.5226', '0.2002', '0.6523'], accuracies=['70.83%', '58.33%', '100.00%', '62.50%']\n",
            "Iteration=400, losses=['0.1750', '0.1724', '0.1555', '0.2029'], accuracies=['100.00%', '100.00%', '100.00%', '100.00%']\n",
            "Iteration=500, losses=['0.1547', '0.1518', '0.1396', '0.1842'], accuracies=['100.00%', '100.00%', '100.00%', '100.00%']\n",
            "Iteration=600, losses=['0.1399', '0.1361', '0.1270', '0.1687'], accuracies=['100.00%', '100.00%', '100.00%', '100.00%']\n",
            "Iteration=700, losses=['0.1282', '0.1235', '0.1166', '0.1559'], accuracies=['100.00%', '100.00%', '100.00%', '100.00%']\n",
            "Iteration=800, losses=['0.1185', '0.1131', '0.1078', '0.1450'], accuracies=['100.00%', '100.00%', '100.00%', '100.00%']\n",
            "Iteration=900, losses=['0.1104', '0.1044', '0.1003', '0.1357'], accuracies=['100.00%', '100.00%', '100.00%', '100.00%']\n"
          ]
        },
        {
          "output_type": "display_data",
          "data": {
            "image/png": "[encoded data removed]",
            "text/plain": [
              "<Figure size 432x288 with 1 Axes>"
            ]
          },
          "metadata": {
            "needs_background": "light"
          }
        },
        {
          "output_type": "display_data",
          "data": {
            "image/png": "[encoded data removed]",
            "text/plain": [
              "<Figure size 432x288 with 1 Axes>"
            ]
          },
          "metadata": {
            "needs_background": "light"
          }
        },
        {
          "output_type": "stream",
          "name": "stdout",
          "text": [
            "\n",
            "Testing Accuracy = 100.00%\n"
          ]
        }
      ]
    },
    {
      "cell_type": "code",
      "metadata": {
        "colab": {
          "base_uri": "https://localhost:8080/",
          "height": 831
        },
        "id": "eWqo5Norw3SG",
        "outputId": "4ccf5f59-45e3-4b63-d932-14081406b8ca"
      },
      "source": [
        "model = federated_learning(diagnosis_title2, hospital_features, hospital_targets2, test_input, test_output2)"
      ],
      "execution_count": null,
      "outputs": [
        {
          "output_type": "stream",
          "name": "stderr",
          "text": [
            "/usr/local/lib/python3.7/dist-packages/torch/nn/_reduction.py:43: UserWarning: size_average and reduce args will be deprecated, please use reduction='mean' instead.\n",
            "  warnings.warn(warning.format(ret))\n"
          ]
        },
        {
          "output_type": "stream",
          "name": "stdout",
          "text": [
            "Iteration=0, losses=['1.5136', '1.5059', '0.6371', '0.5995'], accuracies=['54.17%', '54.17%', '66.67%', '66.67%']\n",
            "Iteration=100, losses=['1.3127', '1.3152', '0.4692', '0.4822'], accuracies=['54.17%', '54.17%', '66.67%', '66.67%']\n",
            "Iteration=200, losses=['1.1520', '1.1931', '0.6236', '0.5915'], accuracies=['54.17%', '54.17%', '66.67%', '66.67%']\n",
            "Iteration=300, losses=['0.9221', '1.0404', '0.5269', '0.4148'], accuracies=['54.17%', '54.17%', '66.67%', '75.00%']\n",
            "Iteration=400, losses=['0.5394', '0.7781', '0.4221', '0.2738'], accuracies=['66.67%', '54.17%', '66.67%', '75.00%']\n",
            "Iteration=500, losses=['0.2079', '0.2312', '0.2618', '0.1887'], accuracies=['100.00%', '100.00%', '87.50%', '100.00%']\n",
            "Iteration=600, losses=['0.1764', '0.1966', '0.1989', '0.1705'], accuracies=['100.00%', '100.00%', '100.00%', '100.00%']\n",
            "Iteration=700, losses=['0.1636', '0.1815', '0.1852', '0.1592'], accuracies=['100.00%', '100.00%', '100.00%', '100.00%']\n",
            "Iteration=800, losses=['0.1527', '0.1693', '0.1736', '0.1494'], accuracies=['100.00%', '100.00%', '100.00%', '100.00%']\n",
            "Iteration=900, losses=['0.1432', '0.1590', '0.1636', '0.1409'], accuracies=['100.00%', '100.00%', '100.00%', '100.00%']\n"
          ]
        },
        {
          "output_type": "display_data",
          "data": {
            "image/png": "[encoded data removed]",
            "text/plain": [
              "<Figure size 432x288 with 1 Axes>"
            ]
          },
          "metadata": {
            "needs_background": "light"
          }
        },
        {
          "output_type": "display_data",
          "data": {
            "image/png": "[encoded data removed]",
            "text/plain": [
              "<Figure size 432x288 with 1 Axes>"
            ]
          },
          "metadata": {
            "needs_background": "light"
          }
        },
        {
          "output_type": "stream",
          "name": "stdout",
          "text": [
            "\n",
            "Testing Accuracy = 100.00%\n"
          ]
        }
      ]
    }
  ]
}